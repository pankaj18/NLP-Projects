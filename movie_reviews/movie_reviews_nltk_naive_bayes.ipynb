{
  "nbformat": 4,
  "nbformat_minor": 0,
  "metadata": {
    "colab": {
      "name": "movie_reviews_nltk_naive_bayes.ipynb",
      "provenance": [],
      "authorship_tag": "ABX9TyMaTvTg5Ti4xxxMVJwnteuH",
      "include_colab_link": true
    },
    "kernelspec": {
      "name": "python3",
      "display_name": "Python 3"
    }
  },
  "cells": [
    {
      "cell_type": "markdown",
      "metadata": {
        "id": "view-in-github",
        "colab_type": "text"
      },
      "source": [
        "<a href=\"https://colab.research.google.com/github/pankaj18/NLP-Projects/blob/master/movie_reviews/movie_reviews_nltk_naive_bayes.ipynb\" target=\"_parent\"><img src=\"https://colab.research.google.com/assets/colab-badge.svg\" alt=\"Open In Colab\"/></a>"
      ]
    },
    {
      "cell_type": "markdown",
      "metadata": {
        "id": "OFNE9gcc78Lr",
        "colab_type": "text"
      },
      "source": [
        "https://www.datacamp.cpm/community/tutorials/simplifying-sentiment-analysis-python"
      ]
    },
    {
      "cell_type": "code",
      "metadata": {
        "id": "KzvoKQ8k3JlS",
        "colab_type": "code",
        "colab": {}
      },
      "source": [
        "import nltk\n",
        "from nltk.corpus import movie_reviews\n",
        "import random"
      ],
      "execution_count": 6,
      "outputs": []
    },
    {
      "cell_type": "code",
      "metadata": {
        "id": "cMHazl264LFB",
        "colab_type": "code",
        "colab": {
          "base_uri": "https://localhost:8080/",
          "height": 68
        },
        "outputId": "a2df7238-9516-4155-a5d1-63ee82433ed2"
      },
      "source": [
        "nltk.download('movie_reviews')"
      ],
      "execution_count": 5,
      "outputs": [
        {
          "output_type": "stream",
          "text": [
            "[nltk_data] Downloading package movie_reviews to /root/nltk_data...\n",
            "[nltk_data]   Unzipping corpora/movie_reviews.zip.\n"
          ],
          "name": "stdout"
        },
        {
          "output_type": "execute_result",
          "data": {
            "text/plain": [
              "True"
            ]
          },
          "metadata": {
            "tags": []
          },
          "execution_count": 5
        }
      ]
    },
    {
      "cell_type": "code",
      "metadata": {
        "id": "DwzBov-R39Qu",
        "colab_type": "code",
        "colab": {}
      },
      "source": [
        "??movie_reviews"
      ],
      "execution_count": 7,
      "outputs": []
    },
    {
      "cell_type": "code",
      "metadata": {
        "id": "w2LHAVXq4EgR",
        "colab_type": "code",
        "colab": {}
      },
      "source": [
        "documents=[(list(movie_reviews.words(field)),category)\n",
        "          for category in movie_reviews.categories()\n",
        "          for field in movie_reviews.fileids(category)]"
      ],
      "execution_count": 8,
      "outputs": []
    },
    {
      "cell_type": "code",
      "metadata": {
        "id": "QfWJK2qp4_li",
        "colab_type": "code",
        "colab": {}
      },
      "source": [
        "random.shuffle(documents)"
      ],
      "execution_count": 9,
      "outputs": []
    },
    {
      "cell_type": "markdown",
      "metadata": {
        "id": "_jvOCk345F4j",
        "colab_type": "text"
      },
      "source": [
        "Feature Extractor"
      ]
    },
    {
      "cell_type": "code",
      "metadata": {
        "id": "zq265W1N5DN4",
        "colab_type": "code",
        "colab": {}
      },
      "source": [
        "all_words=nltk.FreqDist(w.lower() for w in movie_reviews.words())\n",
        "word_features=list(all_words)[:2000]\n",
        "def document_features(document):\n",
        "  document_words=set(document)\n",
        "  features={}\n",
        "  for word in word_features:\n",
        "    features['contains({})'.format(word)]=(word in document_words)\n",
        "  return features"
      ],
      "execution_count": 11,
      "outputs": []
    },
    {
      "cell_type": "markdown",
      "metadata": {
        "id": "ogISfW3P63bi",
        "colab_type": "text"
      },
      "source": [
        "#Train Naive Bayes classifier"
      ]
    },
    {
      "cell_type": "code",
      "metadata": {
        "id": "XLpv8Kr96Bwq",
        "colab_type": "code",
        "colab": {}
      },
      "source": [
        "featuresets=[(document_features(d),c) for (d,c) in documents]\n",
        "train_set,test_set=featuresets[100:],featuresets[:100]\n",
        "classifier=nltk.NaiveBayesClassifier.train(train_set)"
      ],
      "execution_count": 12,
      "outputs": []
    },
    {
      "cell_type": "markdown",
      "metadata": {
        "id": "ynK6OsQy7hAR",
        "colab_type": "text"
      },
      "source": [
        "# Test the classifier"
      ]
    },
    {
      "cell_type": "code",
      "metadata": {
        "id": "8-R6X9pb7fIR",
        "colab_type": "code",
        "colab": {
          "base_uri": "https://localhost:8080/",
          "height": 34
        },
        "outputId": "b7ccb6fe-cde1-446e-c100-f82400a4c5ce"
      },
      "source": [
        "print(nltk.classify.accuracy(classifier,test_set))"
      ],
      "execution_count": 13,
      "outputs": [
        {
          "output_type": "stream",
          "text": [
            "0.81\n"
          ],
          "name": "stdout"
        }
      ]
    },
    {
      "cell_type": "code",
      "metadata": {
        "id": "pKyfIobZ7ssV",
        "colab_type": "code",
        "colab": {
          "base_uri": "https://localhost:8080/",
          "height": 119
        },
        "outputId": "b5249b24-bc57-49a8-eea1-19883fd4b647"
      },
      "source": [
        "classifier.show_most_informative_features(5)"
      ],
      "execution_count": 14,
      "outputs": [
        {
          "output_type": "stream",
          "text": [
            "Most Informative Features\n",
            " contains(unimaginative) = True              neg : pos    =      7.6 : 1.0\n",
            "    contains(schumacher) = True              neg : pos    =      7.3 : 1.0\n",
            "        contains(shoddy) = True              neg : pos    =      6.9 : 1.0\n",
            "     contains(atrocious) = True              neg : pos    =      6.9 : 1.0\n",
            "        contains(suvari) = True              neg : pos    =      6.9 : 1.0\n"
          ],
          "name": "stdout"
        }
      ]
    },
    {
      "cell_type": "code",
      "metadata": {
        "id": "Cf5ZVz0D7zIK",
        "colab_type": "code",
        "colab": {}
      },
      "source": [
        ""
      ],
      "execution_count": null,
      "outputs": []
    }
  ]
}