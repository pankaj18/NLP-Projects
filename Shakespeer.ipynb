{
  "nbformat": 4,
  "nbformat_minor": 0,
  "metadata": {
    "colab": {
      "name": "Shakespeer.ipynb",
      "provenance": [],
      "authorship_tag": "ABX9TyNtg9+5+f1ZFUIQiWB72shG",
      "include_colab_link": true
    },
    "kernelspec": {
      "name": "python3",
      "display_name": "Python 3"
    },
    "accelerator": "GPU"
  },
  "cells": [
    {
      "cell_type": "markdown",
      "metadata": {
        "id": "view-in-github",
        "colab_type": "text"
      },
      "source": [
        "<a href=\"https://colab.research.google.com/github/pankaj18/NLP-Projects/blob/master/Shakespeer.ipynb\" target=\"_parent\"><img src=\"https://colab.research.google.com/assets/colab-badge.svg\" alt=\"Open In Colab\"/></a>"
      ]
    },
    {
      "cell_type": "code",
      "metadata": {
        "id": "RPsR5dggyqPr",
        "colab_type": "code",
        "colab": {}
      },
      "source": [
        "from tensorflow.keras.preprocessing.sequence import pad_sequences\n",
        "from tensorflow.keras.layers import Embedding, LSTM, Dense, Dropout, Bidirectional\n",
        "from tensorflow.keras.preprocessing.text import Tokenizer\n",
        "from tensorflow.keras.models import Sequential\n",
        "from tensorflow.keras.optimizers import Adam\n",
        "### YOUR CODE HERE\n",
        "# Figure out how to import regularizers\n",
        "###\n",
        "import tensorflow.keras.utils as ku \n",
        "import numpy as np "
      ],
      "execution_count": 1,
      "outputs": []
    },
    {
      "cell_type": "code",
      "metadata": {
        "id": "0rKnLq1sy_pM",
        "colab_type": "code",
        "colab": {
          "base_uri": "https://localhost:8080/",
          "height": 204
        },
        "outputId": "2bf0ad78-1eac-45db-de72-7ed89bbccf1d"
      },
      "source": [
        "tokenizer = Tokenizer()\n",
        "!wget --no-check-certificate \\\n",
        "    https://storage.googleapis.com/laurencemoroney-blog.appspot.com/sonnets.txt \\\n",
        "    -O /tmp/sonnets.txt\n",
        "data = open('/tmp/sonnets.txt').read()\n",
        "\n",
        "corpus = data.lower().split(\"\\n\")\n",
        "\n",
        "\n",
        "tokenizer.fit_on_texts(corpus)\n",
        "total_words = len(tokenizer.word_index) + 1\n",
        "\n",
        "# create input sequences using list of tokens\n",
        "input_sequences = []\n",
        "for line in corpus:\n",
        "\ttoken_list = tokenizer.texts_to_sequences([line])[0]\n",
        "\tfor i in range(1, len(token_list)):\n",
        "\t\tn_gram_sequence = token_list[:i+1]\n",
        "\t\tinput_sequences.append(n_gram_sequence)\n",
        "\n",
        "\n",
        "# pad sequences \n",
        "max_sequence_len = max([len(x) for x in input_sequences])\n",
        "input_sequences = np.array(pad_sequences(input_sequences, maxlen=max_sequence_len, padding='pre'))\n",
        "\n",
        "# create predictors and label\n",
        "predictors, label = input_sequences[:,:-1],input_sequences[:,-1]\n",
        "\n",
        "label = ku.to_categorical(label, num_classes=total_words)"
      ],
      "execution_count": 2,
      "outputs": [
        {
          "output_type": "stream",
          "text": [
            "--2020-07-11 16:52:20--  https://storage.googleapis.com/laurencemoroney-blog.appspot.com/sonnets.txt\n",
            "Resolving storage.googleapis.com (storage.googleapis.com)... 108.177.126.128, 172.217.218.128, 173.194.69.128, ...\n",
            "Connecting to storage.googleapis.com (storage.googleapis.com)|108.177.126.128|:443... connected.\n",
            "HTTP request sent, awaiting response... 200 OK\n",
            "Length: 93578 (91K) [text/plain]\n",
            "Saving to: ‘/tmp/sonnets.txt’\n",
            "\n",
            "\r/tmp/sonnets.txt      0%[                    ]       0  --.-KB/s               \r/tmp/sonnets.txt    100%[===================>]  91.38K  --.-KB/s    in 0.001s  \n",
            "\n",
            "2020-07-11 16:52:20 (129 MB/s) - ‘/tmp/sonnets.txt’ saved [93578/93578]\n",
            "\n"
          ],
          "name": "stdout"
        }
      ]
    },
    {
      "cell_type": "markdown",
      "metadata": {
        "id": "TnF4RF8HzPU2",
        "colab_type": "text"
      },
      "source": [
        "# Only LSTM"
      ]
    },
    {
      "cell_type": "code",
      "metadata": {
        "id": "4mE2SB4MzE82",
        "colab_type": "code",
        "colab": {
          "base_uri": "https://localhost:8080/",
          "height": 374
        },
        "outputId": "71ce14e4-48d0-4412-eb7b-5acc640affb4"
      },
      "source": [
        "model = Sequential()\n",
        "model.add(Embedding(total_words,64,input_length=max_sequence_len-1))\n",
        "model.add(LSTM(64,return_sequences=True))\n",
        "model.add(Dropout(0.2))\n",
        "model.add(LSTM(64))\n",
        "model.add(Dense(128,activation='relu'))\n",
        "model.add(Dense(total_words,activation='softmax'))\n",
        "# Pick an optimizer\n",
        "model.compile(loss='categorical_crossentropy',optimizer='adam',metrics=['accuracy'])\n",
        "print(model.summary())\n"
      ],
      "execution_count": 3,
      "outputs": [
        {
          "output_type": "stream",
          "text": [
            "Model: \"sequential\"\n",
            "_________________________________________________________________\n",
            "Layer (type)                 Output Shape              Param #   \n",
            "=================================================================\n",
            "embedding (Embedding)        (None, 10, 64)            205504    \n",
            "_________________________________________________________________\n",
            "lstm (LSTM)                  (None, 10, 64)            33024     \n",
            "_________________________________________________________________\n",
            "dropout (Dropout)            (None, 10, 64)            0         \n",
            "_________________________________________________________________\n",
            "lstm_1 (LSTM)                (None, 64)                33024     \n",
            "_________________________________________________________________\n",
            "dense (Dense)                (None, 128)               8320      \n",
            "_________________________________________________________________\n",
            "dense_1 (Dense)              (None, 3211)              414219    \n",
            "=================================================================\n",
            "Total params: 694,091\n",
            "Trainable params: 694,091\n",
            "Non-trainable params: 0\n",
            "_________________________________________________________________\n",
            "None\n"
          ],
          "name": "stdout"
        }
      ]
    },
    {
      "cell_type": "code",
      "metadata": {
        "id": "VQz7F6AtzKCA",
        "colab_type": "code",
        "colab": {
          "base_uri": "https://localhost:8080/",
          "height": 1000
        },
        "outputId": "c65f06cf-c266-4619-bad3-b89f283ada7d"
      },
      "source": [
        " history = model.fit(predictors, label, epochs=100, verbose=1)"
      ],
      "execution_count": 4,
      "outputs": [
        {
          "output_type": "stream",
          "text": [
            "Epoch 1/100\n",
            "484/484 [==============================] - 4s 8ms/step - loss: 6.8776 - accuracy: 0.0210\n",
            "Epoch 2/100\n",
            "484/484 [==============================] - 4s 8ms/step - loss: 6.4973 - accuracy: 0.0240\n",
            "Epoch 3/100\n",
            "484/484 [==============================] - 4s 8ms/step - loss: 6.3924 - accuracy: 0.0270\n",
            "Epoch 4/100\n",
            "484/484 [==============================] - 4s 8ms/step - loss: 6.2433 - accuracy: 0.0354\n",
            "Epoch 5/100\n",
            "484/484 [==============================] - 4s 8ms/step - loss: 6.1195 - accuracy: 0.0369\n",
            "Epoch 6/100\n",
            "484/484 [==============================] - 4s 8ms/step - loss: 6.0106 - accuracy: 0.0397\n",
            "Epoch 7/100\n",
            "484/484 [==============================] - 4s 8ms/step - loss: 5.9102 - accuracy: 0.0427\n",
            "Epoch 8/100\n",
            "484/484 [==============================] - 4s 8ms/step - loss: 5.8156 - accuracy: 0.0454\n",
            "Epoch 9/100\n",
            "484/484 [==============================] - 4s 8ms/step - loss: 5.7156 - accuracy: 0.0460\n",
            "Epoch 10/100\n",
            "484/484 [==============================] - 4s 8ms/step - loss: 5.6127 - accuracy: 0.0515\n",
            "Epoch 11/100\n",
            "484/484 [==============================] - 4s 8ms/step - loss: 5.4994 - accuracy: 0.0548\n",
            "Epoch 12/100\n",
            "484/484 [==============================] - 4s 8ms/step - loss: 5.3821 - accuracy: 0.0597\n",
            "Epoch 13/100\n",
            "484/484 [==============================] - 4s 8ms/step - loss: 5.2601 - accuracy: 0.0669\n",
            "Epoch 14/100\n",
            "484/484 [==============================] - 4s 8ms/step - loss: 5.1451 - accuracy: 0.0733\n",
            "Epoch 15/100\n",
            "484/484 [==============================] - 4s 8ms/step - loss: 5.0302 - accuracy: 0.0777\n",
            "Epoch 16/100\n",
            "484/484 [==============================] - 4s 8ms/step - loss: 4.9185 - accuracy: 0.0820\n",
            "Epoch 17/100\n",
            "484/484 [==============================] - 4s 8ms/step - loss: 4.8111 - accuracy: 0.0872\n",
            "Epoch 18/100\n",
            "484/484 [==============================] - 4s 8ms/step - loss: 4.6995 - accuracy: 0.0942\n",
            "Epoch 19/100\n",
            "484/484 [==============================] - 4s 8ms/step - loss: 4.5824 - accuracy: 0.0993\n",
            "Epoch 20/100\n",
            "484/484 [==============================] - 4s 8ms/step - loss: 4.4658 - accuracy: 0.1063\n",
            "Epoch 21/100\n",
            "484/484 [==============================] - 4s 8ms/step - loss: 4.3609 - accuracy: 0.1118\n",
            "Epoch 22/100\n",
            "484/484 [==============================] - 4s 8ms/step - loss: 4.2387 - accuracy: 0.1228\n",
            "Epoch 23/100\n",
            "484/484 [==============================] - 4s 8ms/step - loss: 4.1267 - accuracy: 0.1334\n",
            "Epoch 24/100\n",
            "484/484 [==============================] - 4s 8ms/step - loss: 4.0277 - accuracy: 0.1444\n",
            "Epoch 25/100\n",
            "484/484 [==============================] - 4s 8ms/step - loss: 3.9210 - accuracy: 0.1556\n",
            "Epoch 26/100\n",
            "484/484 [==============================] - 4s 8ms/step - loss: 3.8265 - accuracy: 0.1692\n",
            "Epoch 27/100\n",
            "484/484 [==============================] - 4s 8ms/step - loss: 3.7305 - accuracy: 0.1831\n",
            "Epoch 28/100\n",
            "484/484 [==============================] - 4s 8ms/step - loss: 3.6414 - accuracy: 0.1928\n",
            "Epoch 29/100\n",
            "484/484 [==============================] - 4s 8ms/step - loss: 3.5539 - accuracy: 0.2075\n",
            "Epoch 30/100\n",
            "484/484 [==============================] - 4s 8ms/step - loss: 3.4749 - accuracy: 0.2166\n",
            "Epoch 31/100\n",
            "484/484 [==============================] - 4s 8ms/step - loss: 3.3933 - accuracy: 0.2375\n",
            "Epoch 32/100\n",
            "484/484 [==============================] - 4s 8ms/step - loss: 3.3203 - accuracy: 0.2418\n",
            "Epoch 33/100\n",
            "484/484 [==============================] - 4s 8ms/step - loss: 3.2670 - accuracy: 0.2543\n",
            "Epoch 34/100\n",
            "484/484 [==============================] - 4s 8ms/step - loss: 3.1907 - accuracy: 0.2654\n",
            "Epoch 35/100\n",
            "484/484 [==============================] - 4s 8ms/step - loss: 3.1237 - accuracy: 0.2782\n",
            "Epoch 36/100\n",
            "484/484 [==============================] - 4s 8ms/step - loss: 3.0839 - accuracy: 0.2837\n",
            "Epoch 37/100\n",
            "484/484 [==============================] - 4s 8ms/step - loss: 3.0210 - accuracy: 0.2947\n",
            "Epoch 38/100\n",
            "484/484 [==============================] - 4s 8ms/step - loss: 2.9611 - accuracy: 0.3054\n",
            "Epoch 39/100\n",
            "484/484 [==============================] - 4s 8ms/step - loss: 2.8927 - accuracy: 0.3174\n",
            "Epoch 40/100\n",
            "484/484 [==============================] - 4s 8ms/step - loss: 2.8485 - accuracy: 0.3290\n",
            "Epoch 41/100\n",
            "484/484 [==============================] - 4s 8ms/step - loss: 2.7957 - accuracy: 0.3369\n",
            "Epoch 42/100\n",
            "484/484 [==============================] - 4s 8ms/step - loss: 2.7492 - accuracy: 0.3466\n",
            "Epoch 43/100\n",
            "484/484 [==============================] - 4s 8ms/step - loss: 2.6978 - accuracy: 0.3557\n",
            "Epoch 44/100\n",
            "484/484 [==============================] - 4s 8ms/step - loss: 2.6510 - accuracy: 0.3660\n",
            "Epoch 45/100\n",
            "484/484 [==============================] - 4s 8ms/step - loss: 2.6174 - accuracy: 0.3712\n",
            "Epoch 46/100\n",
            "484/484 [==============================] - 4s 8ms/step - loss: 2.5633 - accuracy: 0.3821\n",
            "Epoch 47/100\n",
            "484/484 [==============================] - 4s 8ms/step - loss: 2.5135 - accuracy: 0.3932\n",
            "Epoch 48/100\n",
            "484/484 [==============================] - 4s 8ms/step - loss: 2.4812 - accuracy: 0.3988\n",
            "Epoch 49/100\n",
            "484/484 [==============================] - 4s 8ms/step - loss: 2.4436 - accuracy: 0.4096\n",
            "Epoch 50/100\n",
            "484/484 [==============================] - 4s 8ms/step - loss: 2.4089 - accuracy: 0.4155\n",
            "Epoch 51/100\n",
            "484/484 [==============================] - 4s 8ms/step - loss: 2.3753 - accuracy: 0.4175\n",
            "Epoch 52/100\n",
            "484/484 [==============================] - 4s 8ms/step - loss: 2.3321 - accuracy: 0.4312\n",
            "Epoch 53/100\n",
            "484/484 [==============================] - 4s 8ms/step - loss: 2.3057 - accuracy: 0.4353\n",
            "Epoch 54/100\n",
            "484/484 [==============================] - 4s 8ms/step - loss: 2.2588 - accuracy: 0.4466\n",
            "Epoch 55/100\n",
            "484/484 [==============================] - 4s 8ms/step - loss: 2.2371 - accuracy: 0.4492\n",
            "Epoch 56/100\n",
            "484/484 [==============================] - 4s 8ms/step - loss: 2.2013 - accuracy: 0.4565\n",
            "Epoch 57/100\n",
            "484/484 [==============================] - 4s 8ms/step - loss: 2.1635 - accuracy: 0.4624\n",
            "Epoch 58/100\n",
            "484/484 [==============================] - 4s 8ms/step - loss: 2.1537 - accuracy: 0.4645\n",
            "Epoch 59/100\n",
            "484/484 [==============================] - 4s 8ms/step - loss: 2.1142 - accuracy: 0.4730\n",
            "Epoch 60/100\n",
            "484/484 [==============================] - 4s 8ms/step - loss: 2.0856 - accuracy: 0.4790\n",
            "Epoch 61/100\n",
            "484/484 [==============================] - 4s 8ms/step - loss: 2.0549 - accuracy: 0.4901\n",
            "Epoch 62/100\n",
            "484/484 [==============================] - 4s 8ms/step - loss: 2.0443 - accuracy: 0.4843\n",
            "Epoch 63/100\n",
            "484/484 [==============================] - 4s 8ms/step - loss: 2.0012 - accuracy: 0.5001\n",
            "Epoch 64/100\n",
            "484/484 [==============================] - 4s 8ms/step - loss: 1.9675 - accuracy: 0.5076\n",
            "Epoch 65/100\n",
            "484/484 [==============================] - 4s 8ms/step - loss: 1.9709 - accuracy: 0.5023\n",
            "Epoch 66/100\n",
            "484/484 [==============================] - 4s 8ms/step - loss: 1.9347 - accuracy: 0.5128\n",
            "Epoch 67/100\n",
            "484/484 [==============================] - 4s 8ms/step - loss: 1.9082 - accuracy: 0.5216\n",
            "Epoch 68/100\n",
            "484/484 [==============================] - 4s 8ms/step - loss: 1.8874 - accuracy: 0.5277\n",
            "Epoch 69/100\n",
            "484/484 [==============================] - 4s 8ms/step - loss: 1.8493 - accuracy: 0.5334\n",
            "Epoch 70/100\n",
            "484/484 [==============================] - 4s 8ms/step - loss: 1.8404 - accuracy: 0.5346\n",
            "Epoch 71/100\n",
            "484/484 [==============================] - 4s 8ms/step - loss: 1.8186 - accuracy: 0.5406\n",
            "Epoch 72/100\n",
            "484/484 [==============================] - 4s 8ms/step - loss: 1.7831 - accuracy: 0.5510\n",
            "Epoch 73/100\n",
            "484/484 [==============================] - 4s 8ms/step - loss: 1.7904 - accuracy: 0.5460\n",
            "Epoch 74/100\n",
            "484/484 [==============================] - 4s 8ms/step - loss: 1.7738 - accuracy: 0.5510\n",
            "Epoch 75/100\n",
            "484/484 [==============================] - 4s 8ms/step - loss: 1.7375 - accuracy: 0.5595\n",
            "Epoch 76/100\n",
            "484/484 [==============================] - 4s 8ms/step - loss: 1.7079 - accuracy: 0.5690\n",
            "Epoch 77/100\n",
            "484/484 [==============================] - 4s 8ms/step - loss: 1.7053 - accuracy: 0.5655\n",
            "Epoch 78/100\n",
            "484/484 [==============================] - 4s 8ms/step - loss: 1.6723 - accuracy: 0.5755\n",
            "Epoch 79/100\n",
            "484/484 [==============================] - 4s 8ms/step - loss: 1.6750 - accuracy: 0.5722\n",
            "Epoch 80/100\n",
            "484/484 [==============================] - 4s 9ms/step - loss: 1.6440 - accuracy: 0.5808\n",
            "Epoch 81/100\n",
            "484/484 [==============================] - 4s 8ms/step - loss: 1.6396 - accuracy: 0.5798\n",
            "Epoch 82/100\n",
            "484/484 [==============================] - 4s 8ms/step - loss: 1.6182 - accuracy: 0.5856\n",
            "Epoch 83/100\n",
            "484/484 [==============================] - 4s 8ms/step - loss: 1.5928 - accuracy: 0.5941\n",
            "Epoch 84/100\n",
            "484/484 [==============================] - 4s 8ms/step - loss: 1.5834 - accuracy: 0.5936\n",
            "Epoch 85/100\n",
            "484/484 [==============================] - 4s 8ms/step - loss: 1.5660 - accuracy: 0.5986\n",
            "Epoch 86/100\n",
            "484/484 [==============================] - 4s 8ms/step - loss: 1.5553 - accuracy: 0.5977\n",
            "Epoch 87/100\n",
            "484/484 [==============================] - 4s 8ms/step - loss: 1.5416 - accuracy: 0.6044\n",
            "Epoch 88/100\n",
            "484/484 [==============================] - 4s 8ms/step - loss: 1.5402 - accuracy: 0.6068\n",
            "Epoch 89/100\n",
            "484/484 [==============================] - 4s 8ms/step - loss: 1.5125 - accuracy: 0.6121\n",
            "Epoch 90/100\n",
            "484/484 [==============================] - 4s 8ms/step - loss: 1.5009 - accuracy: 0.6128\n",
            "Epoch 91/100\n",
            "484/484 [==============================] - 4s 8ms/step - loss: 1.4747 - accuracy: 0.6229\n",
            "Epoch 92/100\n",
            "484/484 [==============================] - 4s 8ms/step - loss: 1.4683 - accuracy: 0.6214\n",
            "Epoch 93/100\n",
            "484/484 [==============================] - 4s 8ms/step - loss: 1.4690 - accuracy: 0.6207\n",
            "Epoch 94/100\n",
            "484/484 [==============================] - 4s 8ms/step - loss: 1.4470 - accuracy: 0.6296\n",
            "Epoch 95/100\n",
            "484/484 [==============================] - 4s 8ms/step - loss: 1.4275 - accuracy: 0.6320\n",
            "Epoch 96/100\n",
            "484/484 [==============================] - 4s 8ms/step - loss: 1.4306 - accuracy: 0.6341\n",
            "Epoch 97/100\n",
            "484/484 [==============================] - 4s 8ms/step - loss: 1.4285 - accuracy: 0.6324\n",
            "Epoch 98/100\n",
            "484/484 [==============================] - 4s 8ms/step - loss: 1.4008 - accuracy: 0.6433\n",
            "Epoch 99/100\n",
            "484/484 [==============================] - 4s 8ms/step - loss: 1.3867 - accuracy: 0.6475\n",
            "Epoch 100/100\n",
            "484/484 [==============================] - 4s 8ms/step - loss: 1.3880 - accuracy: 0.6436\n"
          ],
          "name": "stdout"
        }
      ]
    },
    {
      "cell_type": "code",
      "metadata": {
        "id": "sAO8lAUWzajY",
        "colab_type": "code",
        "colab": {
          "base_uri": "https://localhost:8080/",
          "height": 545
        },
        "outputId": "c7887af0-404a-49a1-f5a7-8aca108718a3"
      },
      "source": [
        "import matplotlib.pyplot as plt\n",
        "acc = history.history['accuracy']\n",
        "loss = history.history['loss']\n",
        "\n",
        "epochs = range(len(acc))\n",
        "\n",
        "plt.plot(epochs, acc, 'b', label='Training accuracy')\n",
        "plt.title('Training accuracy')\n",
        "\n",
        "plt.figure()\n",
        "\n",
        "plt.plot(epochs, loss, 'b', label='Training Loss')\n",
        "plt.title('Training loss')\n",
        "plt.legend()\n",
        "\n",
        "plt.show()"
      ],
      "execution_count": 5,
      "outputs": [
        {
          "output_type": "display_data",
          "data": {
            "image/png": "[encoded data removed]",
            "text/plain": [
              "<Figure size 432x288 with 1 Axes>"
            ]
          },
          "metadata": {
            "tags": [],
            "needs_background": "light"
          }
        },
        {
          "output_type": "display_data",
          "data": {
            "image/png": "[encoded data removed]",
            "text/plain": [
              "<Figure size 432x288 with 1 Axes>"
            ]
          },
          "metadata": {
            "tags": [],
            "needs_background": "light"
          }
        }
      ]
    },
    {
      "cell_type": "code",
      "metadata": {
        "id": "3fdYVfgYzfQM",
        "colab_type": "code",
        "colab": {
          "base_uri": "https://localhost:8080/",
          "height": 105
        },
        "outputId": "a859ca2f-54f1-4226-a3db-9f537d761c32"
      },
      "source": [
        "seed_text = \"Help me Obi Wan Kenobi, you're my only hope\"\n",
        "next_words = 100\n",
        "  \n",
        "for _ in range(next_words):\n",
        "\ttoken_list = tokenizer.texts_to_sequences([seed_text])[0]\n",
        "\ttoken_list = pad_sequences([token_list], maxlen=max_sequence_len-1, padding='pre')\n",
        "\tpredicted = model.predict_classes(token_list, verbose=0)\n",
        "\toutput_word = \"\"\n",
        "\tfor word, index in tokenizer.word_index.items():\n",
        "\t\tif index == predicted:\n",
        "\t\t\toutput_word = word\n",
        "\t\t\tbreak\n",
        "\tseed_text += \" \" + output_word\n",
        "print(seed_text)"
      ],
      "execution_count": 6,
      "outputs": [
        {
          "output_type": "stream",
          "text": [
            "WARNING:tensorflow:From <ipython-input-6-622d307fa19a>:7: Sequential.predict_classes (from tensorflow.python.keras.engine.sequential) is deprecated and will be removed after 2021-01-01.\n",
            "Instructions for updating:\n",
            "Please use instead:* `np.argmax(model.predict(x), axis=-1)`,   if your model does multi-class classification   (e.g. if it uses a `softmax` last-layer activation).* `(model.predict(x) > 0.5).astype(\"int32\")`,   if your model does binary classification   (e.g. if it uses a `sigmoid` last-layer activation).\n",
            "Help me Obi Wan Kenobi, you're my only hope to approve the part hid level of worth thy sake sheds that thee seen tell me ' done long green thee her know i love i know not love to be with thee alone on me alone forth me bright live done dear cross heart green me green thee how i love and be assailed made so bright in see it young it with love it it no see their devil heart love old know say idolatry thy heart ' seen another 'will ' back of worth rest see rest level of me now do hue me deep seen spent\n"
          ],
          "name": "stdout"
        }
      ]
    },
    {
      "cell_type": "markdown",
      "metadata": {
        "id": "2WMLYKwDzTgM",
        "colab_type": "text"
      },
      "source": [
        "# Bidirectional LSTM"
      ]
    },
    {
      "cell_type": "code",
      "metadata": {
        "id": "YyxvlsG8zN4F",
        "colab_type": "code",
        "colab": {
          "base_uri": "https://localhost:8080/",
          "height": 374
        },
        "outputId": "6a8a9079-4d4e-4a31-ec8a-f94b5f0664d5"
      },
      "source": [
        "model = Sequential()\n",
        "model.add(Embedding(total_words,64,input_length=max_sequence_len-1))\n",
        "model.add(Bidirectional(LSTM(64,return_sequences=True)))\n",
        "model.add(Dropout(0.2))\n",
        "model.add(Bidirectional(LSTM(64)))\n",
        "model.add(Dense(128,activation='relu'))\n",
        "model.add(Dense(total_words,activation='softmax'))\n",
        "# Pick an optimizer\n",
        "model.compile(loss='categorical_crossentropy',optimizer='adam',metrics=['accuracy'])\n",
        "print(model.summary())\n"
      ],
      "execution_count": 7,
      "outputs": [
        {
          "output_type": "stream",
          "text": [
            "Model: \"sequential_1\"\n",
            "_________________________________________________________________\n",
            "Layer (type)                 Output Shape              Param #   \n",
            "=================================================================\n",
            "embedding_1 (Embedding)      (None, 10, 64)            205504    \n",
            "_________________________________________________________________\n",
            "bidirectional (Bidirectional (None, 10, 128)           66048     \n",
            "_________________________________________________________________\n",
            "dropout_1 (Dropout)          (None, 10, 128)           0         \n",
            "_________________________________________________________________\n",
            "bidirectional_1 (Bidirection (None, 128)               98816     \n",
            "_________________________________________________________________\n",
            "dense_2 (Dense)              (None, 128)               16512     \n",
            "_________________________________________________________________\n",
            "dense_3 (Dense)              (None, 3211)              414219    \n",
            "=================================================================\n",
            "Total params: 801,099\n",
            "Trainable params: 801,099\n",
            "Non-trainable params: 0\n",
            "_________________________________________________________________\n",
            "None\n"
          ],
          "name": "stdout"
        }
      ]
    },
    {
      "cell_type": "code",
      "metadata": {
        "id": "Gss57miozZpi",
        "colab_type": "code",
        "colab": {
          "base_uri": "https://localhost:8080/",
          "height": 1000
        },
        "outputId": "b9e448c2-bf3f-484c-b5f5-89c6b4d4d2c6"
      },
      "source": [
        " history = model.fit(predictors, label, epochs=100, verbose=1)"
      ],
      "execution_count": 8,
      "outputs": [
        {
          "output_type": "stream",
          "text": [
            "Epoch 1/100\n",
            "484/484 [==============================] - 5s 11ms/step - loss: 6.8562 - accuracy: 0.0240\n",
            "Epoch 2/100\n",
            "484/484 [==============================] - 5s 11ms/step - loss: 6.4867 - accuracy: 0.0273\n",
            "Epoch 3/100\n",
            "484/484 [==============================] - 5s 11ms/step - loss: 6.3136 - accuracy: 0.0328\n",
            "Epoch 4/100\n",
            "484/484 [==============================] - 5s 11ms/step - loss: 6.1610 - accuracy: 0.0359\n",
            "Epoch 5/100\n",
            "484/484 [==============================] - 5s 11ms/step - loss: 6.0250 - accuracy: 0.0402\n",
            "Epoch 6/100\n",
            "484/484 [==============================] - 5s 11ms/step - loss: 5.8950 - accuracy: 0.0422\n",
            "Epoch 7/100\n",
            "484/484 [==============================] - 5s 11ms/step - loss: 5.7458 - accuracy: 0.0447\n",
            "Epoch 8/100\n",
            "484/484 [==============================] - 5s 11ms/step - loss: 5.5954 - accuracy: 0.0514\n",
            "Epoch 9/100\n",
            "484/484 [==============================] - 5s 11ms/step - loss: 5.4477 - accuracy: 0.0576\n",
            "Epoch 10/100\n",
            "484/484 [==============================] - 5s 11ms/step - loss: 5.2966 - accuracy: 0.0669\n",
            "Epoch 11/100\n",
            "484/484 [==============================] - 5s 11ms/step - loss: 5.1420 - accuracy: 0.0723\n",
            "Epoch 12/100\n",
            "484/484 [==============================] - 5s 11ms/step - loss: 4.9994 - accuracy: 0.0786\n",
            "Epoch 13/100\n",
            "484/484 [==============================] - 5s 11ms/step - loss: 4.8475 - accuracy: 0.0853\n",
            "Epoch 14/100\n",
            "484/484 [==============================] - 5s 11ms/step - loss: 4.6856 - accuracy: 0.0956\n",
            "Epoch 15/100\n",
            "484/484 [==============================] - 5s 11ms/step - loss: 4.5292 - accuracy: 0.1044\n",
            "Epoch 16/100\n",
            "484/484 [==============================] - 5s 11ms/step - loss: 4.3608 - accuracy: 0.1156\n",
            "Epoch 17/100\n",
            "484/484 [==============================] - 5s 11ms/step - loss: 4.2015 - accuracy: 0.1346\n",
            "Epoch 18/100\n",
            "484/484 [==============================] - 5s 11ms/step - loss: 4.0465 - accuracy: 0.1454\n",
            "Epoch 19/100\n",
            "484/484 [==============================] - 5s 11ms/step - loss: 3.8862 - accuracy: 0.1649\n",
            "Epoch 20/100\n",
            "484/484 [==============================] - 5s 11ms/step - loss: 3.7288 - accuracy: 0.1904\n",
            "Epoch 21/100\n",
            "484/484 [==============================] - 5s 11ms/step - loss: 3.5941 - accuracy: 0.2093\n",
            "Epoch 22/100\n",
            "484/484 [==============================] - 5s 11ms/step - loss: 3.4489 - accuracy: 0.2333\n",
            "Epoch 23/100\n",
            "484/484 [==============================] - 5s 11ms/step - loss: 3.3124 - accuracy: 0.2624\n",
            "Epoch 24/100\n",
            "484/484 [==============================] - 5s 11ms/step - loss: 3.1818 - accuracy: 0.2828\n",
            "Epoch 25/100\n",
            "484/484 [==============================] - 5s 11ms/step - loss: 3.0691 - accuracy: 0.3016\n",
            "Epoch 26/100\n",
            "484/484 [==============================] - 5s 11ms/step - loss: 2.9495 - accuracy: 0.3244\n",
            "Epoch 27/100\n",
            "484/484 [==============================] - 5s 11ms/step - loss: 2.8488 - accuracy: 0.3448\n",
            "Epoch 28/100\n",
            "484/484 [==============================] - 5s 11ms/step - loss: 2.7630 - accuracy: 0.3587\n",
            "Epoch 29/100\n",
            "484/484 [==============================] - 5s 11ms/step - loss: 2.6579 - accuracy: 0.3788\n",
            "Epoch 30/100\n",
            "484/484 [==============================] - 5s 11ms/step - loss: 2.5680 - accuracy: 0.4001\n",
            "Epoch 31/100\n",
            "484/484 [==============================] - 5s 11ms/step - loss: 2.4813 - accuracy: 0.4217\n",
            "Epoch 32/100\n",
            "484/484 [==============================] - 5s 11ms/step - loss: 2.3996 - accuracy: 0.4351\n",
            "Epoch 33/100\n",
            "484/484 [==============================] - 5s 11ms/step - loss: 2.3270 - accuracy: 0.4517\n",
            "Epoch 34/100\n",
            "484/484 [==============================] - 5s 11ms/step - loss: 2.2607 - accuracy: 0.4604\n",
            "Epoch 35/100\n",
            "484/484 [==============================] - 5s 11ms/step - loss: 2.2020 - accuracy: 0.4760\n",
            "Epoch 36/100\n",
            "484/484 [==============================] - 5s 11ms/step - loss: 2.1289 - accuracy: 0.4936\n",
            "Epoch 37/100\n",
            "484/484 [==============================] - 6s 11ms/step - loss: 2.0662 - accuracy: 0.5076\n",
            "Epoch 38/100\n",
            "484/484 [==============================] - 6s 12ms/step - loss: 2.0030 - accuracy: 0.5188\n",
            "Epoch 39/100\n",
            "484/484 [==============================] - 6s 12ms/step - loss: 1.9510 - accuracy: 0.5339\n",
            "Epoch 40/100\n",
            "484/484 [==============================] - 6s 12ms/step - loss: 1.8879 - accuracy: 0.5419\n",
            "Epoch 41/100\n",
            "484/484 [==============================] - 6s 12ms/step - loss: 1.8593 - accuracy: 0.5519\n",
            "Epoch 42/100\n",
            "484/484 [==============================] - 6s 12ms/step - loss: 1.8100 - accuracy: 0.5621\n",
            "Epoch 43/100\n",
            "484/484 [==============================] - 5s 11ms/step - loss: 1.7518 - accuracy: 0.5735\n",
            "Epoch 44/100\n",
            "484/484 [==============================] - 6s 12ms/step - loss: 1.7121 - accuracy: 0.5834\n",
            "Epoch 45/100\n",
            "484/484 [==============================] - 6s 12ms/step - loss: 1.6689 - accuracy: 0.5908\n",
            "Epoch 46/100\n",
            "484/484 [==============================] - 5s 11ms/step - loss: 1.6238 - accuracy: 0.6045\n",
            "Epoch 47/100\n",
            "484/484 [==============================] - 5s 11ms/step - loss: 1.5944 - accuracy: 0.6099\n",
            "Epoch 48/100\n",
            "484/484 [==============================] - 5s 11ms/step - loss: 1.5641 - accuracy: 0.6169\n",
            "Epoch 49/100\n",
            "484/484 [==============================] - 5s 11ms/step - loss: 1.5243 - accuracy: 0.6266\n",
            "Epoch 50/100\n",
            "484/484 [==============================] - 5s 11ms/step - loss: 1.4861 - accuracy: 0.6359\n",
            "Epoch 51/100\n",
            "484/484 [==============================] - 5s 11ms/step - loss: 1.4472 - accuracy: 0.6445\n",
            "Epoch 52/100\n",
            "484/484 [==============================] - 6s 11ms/step - loss: 1.4243 - accuracy: 0.6464\n",
            "Epoch 53/100\n",
            "484/484 [==============================] - 6s 12ms/step - loss: 1.4126 - accuracy: 0.6509\n",
            "Epoch 54/100\n",
            "484/484 [==============================] - 6s 12ms/step - loss: 1.3743 - accuracy: 0.6552\n",
            "Epoch 55/100\n",
            "484/484 [==============================] - 6s 12ms/step - loss: 1.3356 - accuracy: 0.6727\n",
            "Epoch 56/100\n",
            "484/484 [==============================] - 6s 12ms/step - loss: 1.3175 - accuracy: 0.6730\n",
            "Epoch 57/100\n",
            "484/484 [==============================] - 6s 12ms/step - loss: 1.2929 - accuracy: 0.6798\n",
            "Epoch 58/100\n",
            "484/484 [==============================] - 6s 12ms/step - loss: 1.2743 - accuracy: 0.6833\n",
            "Epoch 59/100\n",
            "484/484 [==============================] - 6s 12ms/step - loss: 1.2299 - accuracy: 0.6912\n",
            "Epoch 60/100\n",
            "484/484 [==============================] - 6s 12ms/step - loss: 1.2239 - accuracy: 0.6941\n",
            "Epoch 61/100\n",
            "484/484 [==============================] - 6s 12ms/step - loss: 1.2024 - accuracy: 0.6992\n",
            "Epoch 62/100\n",
            "484/484 [==============================] - 6s 12ms/step - loss: 1.1923 - accuracy: 0.6999\n",
            "Epoch 63/100\n",
            "484/484 [==============================] - 6s 12ms/step - loss: 1.1754 - accuracy: 0.7039\n",
            "Epoch 64/100\n",
            "484/484 [==============================] - 6s 12ms/step - loss: 1.1439 - accuracy: 0.7108\n",
            "Epoch 65/100\n",
            "484/484 [==============================] - 6s 12ms/step - loss: 1.1228 - accuracy: 0.7196\n",
            "Epoch 66/100\n",
            "484/484 [==============================] - 6s 12ms/step - loss: 1.1206 - accuracy: 0.7152\n",
            "Epoch 67/100\n",
            "484/484 [==============================] - 6s 12ms/step - loss: 1.0943 - accuracy: 0.7204\n",
            "Epoch 68/100\n",
            "484/484 [==============================] - 6s 12ms/step - loss: 1.0840 - accuracy: 0.7255\n",
            "Epoch 69/100\n",
            "484/484 [==============================] - 6s 12ms/step - loss: 1.0693 - accuracy: 0.7296\n",
            "Epoch 70/100\n",
            "484/484 [==============================] - 6s 12ms/step - loss: 1.0514 - accuracy: 0.7327\n",
            "Epoch 71/100\n",
            "484/484 [==============================] - 6s 12ms/step - loss: 1.0293 - accuracy: 0.7350\n",
            "Epoch 72/100\n",
            "484/484 [==============================] - 6s 12ms/step - loss: 1.0312 - accuracy: 0.7358\n",
            "Epoch 73/100\n",
            "484/484 [==============================] - 6s 12ms/step - loss: 1.0066 - accuracy: 0.7453\n",
            "Epoch 74/100\n",
            "484/484 [==============================] - 6s 11ms/step - loss: 1.0116 - accuracy: 0.7427\n",
            "Epoch 75/100\n",
            "484/484 [==============================] - 6s 11ms/step - loss: 0.9910 - accuracy: 0.7507\n",
            "Epoch 76/100\n",
            "484/484 [==============================] - 5s 11ms/step - loss: 0.9719 - accuracy: 0.7529\n",
            "Epoch 77/100\n",
            "484/484 [==============================] - 6s 11ms/step - loss: 0.9591 - accuracy: 0.7575\n",
            "Epoch 78/100\n",
            "484/484 [==============================] - 6s 12ms/step - loss: 0.9579 - accuracy: 0.7562\n",
            "Epoch 79/100\n",
            "484/484 [==============================] - 6s 12ms/step - loss: 0.9485 - accuracy: 0.7569\n",
            "Epoch 80/100\n",
            "484/484 [==============================] - 6s 12ms/step - loss: 0.9259 - accuracy: 0.7635\n",
            "Epoch 81/100\n",
            "484/484 [==============================] - 6s 11ms/step - loss: 0.9282 - accuracy: 0.7603\n",
            "Epoch 82/100\n",
            "484/484 [==============================] - 6s 11ms/step - loss: 0.9200 - accuracy: 0.7612\n",
            "Epoch 83/100\n",
            "484/484 [==============================] - 6s 11ms/step - loss: 0.9066 - accuracy: 0.7688\n",
            "Epoch 84/100\n",
            "484/484 [==============================] - 6s 11ms/step - loss: 0.8927 - accuracy: 0.7714\n",
            "Epoch 85/100\n",
            "484/484 [==============================] - 6s 12ms/step - loss: 0.8931 - accuracy: 0.7704\n",
            "Epoch 86/100\n",
            "484/484 [==============================] - 6s 12ms/step - loss: 0.8984 - accuracy: 0.7651\n",
            "Epoch 87/100\n",
            "484/484 [==============================] - 6s 12ms/step - loss: 0.8693 - accuracy: 0.7744\n",
            "Epoch 88/100\n",
            "484/484 [==============================] - 6s 12ms/step - loss: 0.8553 - accuracy: 0.7806\n",
            "Epoch 89/100\n",
            "484/484 [==============================] - 6s 11ms/step - loss: 0.8556 - accuracy: 0.7776\n",
            "Epoch 90/100\n",
            "484/484 [==============================] - 6s 12ms/step - loss: 0.8623 - accuracy: 0.7789\n",
            "Epoch 91/100\n",
            "484/484 [==============================] - 6s 11ms/step - loss: 0.8525 - accuracy: 0.7765\n",
            "Epoch 92/100\n",
            "484/484 [==============================] - 6s 12ms/step - loss: 0.8513 - accuracy: 0.7808\n",
            "Epoch 93/100\n",
            "484/484 [==============================] - 6s 12ms/step - loss: 0.8259 - accuracy: 0.7875\n",
            "Epoch 94/100\n",
            "484/484 [==============================] - 5s 11ms/step - loss: 0.8280 - accuracy: 0.7854\n",
            "Epoch 95/100\n",
            "484/484 [==============================] - 6s 11ms/step - loss: 0.8271 - accuracy: 0.7849\n",
            "Epoch 96/100\n",
            "484/484 [==============================] - 5s 11ms/step - loss: 0.8254 - accuracy: 0.7815\n",
            "Epoch 97/100\n",
            "484/484 [==============================] - 5s 11ms/step - loss: 0.8099 - accuracy: 0.7875\n",
            "Epoch 98/100\n",
            "484/484 [==============================] - 5s 11ms/step - loss: 0.7937 - accuracy: 0.7902\n",
            "Epoch 99/100\n",
            "484/484 [==============================] - 6s 11ms/step - loss: 0.7887 - accuracy: 0.7965\n",
            "Epoch 100/100\n",
            "484/484 [==============================] - 5s 11ms/step - loss: 0.8018 - accuracy: 0.7917\n"
          ],
          "name": "stdout"
        }
      ]
    },
    {
      "cell_type": "code",
      "metadata": {
        "id": "WEwsiPpkztXB",
        "colab_type": "code",
        "colab": {
          "base_uri": "https://localhost:8080/",
          "height": 545
        },
        "outputId": "5a0ad57e-273d-43b0-cd2a-bca86897db47"
      },
      "source": [
        "import matplotlib.pyplot as plt\n",
        "acc = history.history['accuracy']\n",
        "loss = history.history['loss']\n",
        "\n",
        "epochs = range(len(acc))\n",
        "\n",
        "plt.plot(epochs, acc, 'b', label='Training accuracy')\n",
        "plt.title('Training accuracy')\n",
        "\n",
        "plt.figure()\n",
        "\n",
        "plt.plot(epochs, loss, 'b', label='Training Loss')\n",
        "plt.title('Training loss')\n",
        "plt.legend()\n",
        "\n",
        "plt.show()"
      ],
      "execution_count": 9,
      "outputs": [
        {
          "output_type": "display_data",
          "data": {
            "image/png": "[encoded data removed]",
            "text/plain": [
              "<Figure size 432x288 with 1 Axes>"
            ]
          },
          "metadata": {
            "tags": [],
            "needs_background": "light"
          }
        },
        {
          "output_type": "display_data",
          "data": {
            "image/png": "[encoded data removed]",
            "text/plain": [
              "<Figure size 432x288 with 1 Axes>"
            ]
          },
          "metadata": {
            "tags": [],
            "needs_background": "light"
          }
        }
      ]
    },
    {
      "cell_type": "code",
      "metadata": {
        "id": "c_vvYn6dztZ_",
        "colab_type": "code",
        "colab": {
          "base_uri": "https://localhost:8080/",
          "height": 54
        },
        "outputId": "22b90b1b-01ed-4da7-af80-707190469caf"
      },
      "source": [
        "seed_text = \"Help me Obi Wan Kenobi, you're my only hope\"\n",
        "next_words = 100\n",
        "  \n",
        "for _ in range(next_words):\n",
        "\ttoken_list = tokenizer.texts_to_sequences([seed_text])[0]\n",
        "\ttoken_list = pad_sequences([token_list], maxlen=max_sequence_len-1, padding='pre')\n",
        "\tpredicted = model.predict_classes(token_list, verbose=0)\n",
        "\toutput_word = \"\"\n",
        "\tfor word, index in tokenizer.word_index.items():\n",
        "\t\tif index == predicted:\n",
        "\t\t\toutput_word = word\n",
        "\t\t\tbreak\n",
        "\tseed_text += \" \" + output_word\n",
        "print(seed_text)"
      ],
      "execution_count": 10,
      "outputs": [
        {
          "output_type": "stream",
          "text": [
            "Help me Obi Wan Kenobi, you're my only hope their middle age then knowing thee lie so shown shown me untrue you be are counted fair ' knowing thy chest treasure ' hate so torn torn ' be torn knowing thy mind ' knowing a woe age bright be cross bright your heart ' be so true kindness me thee me thee so do awake thee so not call her time so dearly untrue your skill bail die bright it be shown bright so ' be new of eyes of such praise renewest say alone more laws ' so ' of truth do so old old parts of me\n"
          ],
          "name": "stdout"
        }
      ]
    },
    {
      "cell_type": "code",
      "metadata": {
        "id": "M_t24YoPz5yt",
        "colab_type": "code",
        "colab": {}
      },
      "source": [
        ""
      ],
      "execution_count": null,
      "outputs": []
    }
  ]
}