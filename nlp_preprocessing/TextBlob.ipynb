{
  "nbformat": 4,
  "nbformat_minor": 0,
  "metadata": {
    "kernelspec": {
      "display_name": "Python 3",
      "language": "python",
      "name": "python3"
    },
    "language_info": {
      "codemirror_mode": {
        "name": "ipython",
        "version": 3
      },
      "file_extension": ".py",
      "mimetype": "text/x-python",
      "name": "python",
      "nbconvert_exporter": "python",
      "pygments_lexer": "ipython3",
      "version": "3.7.4"
    },
    "colab": {
      "name": "TextBlob.ipynb",
      "provenance": [],
      "toc_visible": true,
      "include_colab_link": true
    }
  },
  "cells": [
    {
      "cell_type": "markdown",
      "metadata": {
        "id": "view-in-github",
        "colab_type": "text"
      },
      "source": [
        "<a href=\"https://colab.research.google.com/github/pankaj18/NLP-Projects/blob/master/nlp_preprocessing/TextBlob.ipynb\" target=\"_parent\"><img src=\"https://colab.research.google.com/assets/colab-badge.svg\" alt=\"Open In Colab\"/></a>"
      ]
    },
    {
      "cell_type": "markdown",
      "metadata": {
        "id": "l1_53okMQKMT"
      },
      "source": [
        "# TextBlob: Simplified Text Processing \n",
        "\n",
        "TextBlob is a Python (2 and 3) library for processing textual data. It provides a simple API for diving into common natural language processing (NLP) tasks such as part-of-speech tagging, noun phrase extraction, sentiment analysis, classification, translation,and more.\n",
        "\n",
        "TextBlob stands on the giant shoulders of NLTK and pattern, and plays nicely with both.\n",
        "\n",
        "## Features\n",
        "- Noun phrase extraction\n",
        "- Part-of-speech tagging\n",
        "- Sentiment analysis\n",
        "- Classification (Naive Bayes, Decision Tree)\n",
        "- Language translation and detection powered by Google Translate\n",
        "- Tokenization (splitting text into words and sentences)\n",
        "- Word and phrase frequencies\n",
        "- Parsing\n",
        "- n-grams\n",
        "- Word inflection (pluralization and singularization) and lemmatization\n",
        "- Spelling correction\n",
        "- Add new models or languages through extensions\n",
        "- WordNet integration\n",
        "\n",
        "## Installation\n",
        "\n",
        "### Installing/Uploading from the PyPi\n",
        "     \n",
        "      pip install textblob\n",
        "      python -m textblob.download_corpora\n",
        "\n",
        "This will install TextBlob and download the necessary NLTK corpora. If you need to change the default download directory set the NLTK_DATA environment variable.\n",
        "\n",
        "### Downloading the minimum corpora:\n",
        "\n",
        "If you only intend to use TextBlob’s default models (no model overrides), you can pass the lite argument. This downloads only those corpora needed for basic functionality.\n",
        "\n",
        "      python -m textblob.download_corpora lite\n",
        "      \n",
        "### Installing with Conda\n",
        "\n",
        "***Note:*** Conda builds are currently available for Mac OSX only.\n",
        "\n",
        "TextBlob is also available as a conda package. To install with conda, run\n",
        "\n",
        "     conda install -c https://conda.anaconda.org/sloria textblob\n",
        "     python -m textblob.download_corpora\n",
        "     \n",
        "### Python\n",
        "\n",
        "TextBlob supports Python >=2.7 or >=3.4.\n",
        "\n",
        "### Dependencies\n",
        "\n",
        "TextBlob depends on NLTK3. NLTK will be installed automatically when you run\n",
        "     \n",
        "     pip install textblob\n",
        "     \n",
        "     \n",
        "TextBlob aims to provide access to common text-processing operations through a familiar interface. You can treat **TextBlob** objects as if they were Python strings that learned how to do Natural Language Processing.\n",
        "\n",
        "### Create a TextBlob\n",
        "\n",
        "First, the import"
      ]
    },
    {
      "cell_type": "code",
      "metadata": {
        "id": "YefEqKF3EF__",
        "outputId": "ea88ab55-90fb-4b5d-e395-2fdb3538d731",
        "colab": {
          "base_uri": "https://localhost:8080/"
        }
      },
      "source": [
        "import nltk\n",
        "nltk.download('punkt')\n",
        "nltk.download('averaged_perceptron_tagger')\n",
        "nltk.download('brown')\n",
        "nltk.download('wordnet')"
      ],
      "execution_count": 20,
      "outputs": [
        {
          "output_type": "stream",
          "text": [
            "[nltk_data] Downloading package punkt to /root/nltk_data...\n",
            "[nltk_data]   Package punkt is already up-to-date!\n",
            "[nltk_data] Downloading package averaged_perceptron_tagger to\n",
            "[nltk_data]     /root/nltk_data...\n",
            "[nltk_data]   Package averaged_perceptron_tagger is already up-to-\n",
            "[nltk_data]       date!\n",
            "[nltk_data] Downloading package brown to /root/nltk_data...\n",
            "[nltk_data]   Package brown is already up-to-date!\n",
            "[nltk_data] Downloading package wordnet to /root/nltk_data...\n",
            "[nltk_data]   Unzipping corpora/wordnet.zip.\n"
          ],
          "name": "stdout"
        },
        {
          "output_type": "execute_result",
          "data": {
            "text/plain": [
              "True"
            ]
          },
          "metadata": {
            "tags": []
          },
          "execution_count": 20
        }
      ]
    },
    {
      "cell_type": "code",
      "metadata": {
        "id": "qwTQw4CpQKMW"
      },
      "source": [
        "from textblob import TextBlob"
      ],
      "execution_count": 1,
      "outputs": []
    },
    {
      "cell_type": "markdown",
      "metadata": {
        "id": "o8l3gUtrQKMg"
      },
      "source": [
        "Let's create our first **TextBlob**"
      ]
    },
    {
      "cell_type": "code",
      "metadata": {
        "id": "flJP0NNDQKMi"
      },
      "source": [
        "wiki = TextBlob(\"I love Natural Language Processing, not you!\")"
      ],
      "execution_count": 2,
      "outputs": []
    },
    {
      "cell_type": "markdown",
      "metadata": {
        "id": "j1kyr_mGQKMq"
      },
      "source": [
        "### Part-of-speech(POS) Tagging\n",
        "\n",
        "Parts-of-speech tags can be accessed through the **tags** property."
      ]
    },
    {
      "cell_type": "code",
      "metadata": {
        "id": "rEMpLxw0QKMr",
        "colab": {
          "base_uri": "https://localhost:8080/"
        },
        "outputId": "9f069773-f182-4758-f286-2cae5c2de8ef"
      },
      "source": [
        "wiki.tags"
      ],
      "execution_count": 7,
      "outputs": [
        {
          "output_type": "execute_result",
          "data": {
            "text/plain": [
              "[('I', 'PRP'),\n",
              " ('love', 'VBP'),\n",
              " ('Natural', 'JJ'),\n",
              " ('Language', 'NNP'),\n",
              " ('Processing', 'NNP'),\n",
              " ('not', 'RB'),\n",
              " ('you', 'PRP')]"
            ]
          },
          "metadata": {
            "tags": []
          },
          "execution_count": 7
        }
      ]
    },
    {
      "cell_type": "markdown",
      "metadata": {
        "id": "PFM5vYEvQKM0"
      },
      "source": [
        "### Noun Phrase Extraction\n",
        "\n",
        "Similarly, noun phrases are accessed through the **noun_phrases** property."
      ]
    },
    {
      "cell_type": "code",
      "metadata": {
        "id": "0e3ovG62QKM1",
        "colab": {
          "base_uri": "https://localhost:8080/"
        },
        "outputId": "71445316-c842-45a2-b0af-313ef6ef8ca2"
      },
      "source": [
        "wiki.noun_phrases"
      ],
      "execution_count": 10,
      "outputs": [
        {
          "output_type": "execute_result",
          "data": {
            "text/plain": [
              "WordList(['language processing'])"
            ]
          },
          "metadata": {
            "tags": []
          },
          "execution_count": 10
        }
      ]
    },
    {
      "cell_type": "markdown",
      "metadata": {
        "id": "urW_2BG6QKM8"
      },
      "source": [
        "### Sentiment Analysis\n",
        "\n",
        "The sentiment property returns a named tuple of the form Sentiment(polarity, subjectivity). The polarity score is a float within the range [-1.0, 1.0]. The subjectivity is a float within the range [0.0, 1.0] where 0.0 is very objective and 1.0 is very subjective."
      ]
    },
    {
      "cell_type": "code",
      "metadata": {
        "id": "1UNjWuXVQKM9",
        "colab": {
          "base_uri": "https://localhost:8080/"
        },
        "outputId": "d1bd6695-0aab-45e2-f2a9-2f9b8cfd78e0"
      },
      "source": [
        "testimonial = TextBlob(\"Textblob is amazingly simple to use. What great fun!\")\n",
        "testimonial.sentiment"
      ],
      "execution_count": 11,
      "outputs": [
        {
          "output_type": "execute_result",
          "data": {
            "text/plain": [
              "Sentiment(polarity=0.39166666666666666, subjectivity=0.4357142857142857)"
            ]
          },
          "metadata": {
            "tags": []
          },
          "execution_count": 11
        }
      ]
    },
    {
      "cell_type": "code",
      "metadata": {
        "id": "AIFT1QiuQKNE",
        "colab": {
          "base_uri": "https://localhost:8080/"
        },
        "outputId": "4711b42b-9a39-4f1e-99af-5459d6faf663"
      },
      "source": [
        "testimonial.sentiment.subjectivity"
      ],
      "execution_count": 12,
      "outputs": [
        {
          "output_type": "execute_result",
          "data": {
            "text/plain": [
              "0.4357142857142857"
            ]
          },
          "metadata": {
            "tags": []
          },
          "execution_count": 12
        }
      ]
    },
    {
      "cell_type": "markdown",
      "metadata": {
        "id": "SJOCx-EwQKNL"
      },
      "source": [
        "### Tokenization\n",
        "\n"
      ]
    },
    {
      "cell_type": "code",
      "metadata": {
        "id": "Z1L86eZeQKNM",
        "colab": {
          "base_uri": "https://localhost:8080/"
        },
        "outputId": "e7677f8c-8710-40fe-f003-0779a49e3a11"
      },
      "source": [
        "zen = TextBlob(\"Data is a new fuel. \"\n",
        "               \"Explicit is better than implicit. \"\n",
        "               \"Simple is better than complex. \")\n",
        "               \n",
        "zen.words"
      ],
      "execution_count": 13,
      "outputs": [
        {
          "output_type": "execute_result",
          "data": {
            "text/plain": [
              "WordList(['Data', 'is', 'a', 'new', 'fuel', 'Explicit', 'is', 'better', 'than', 'implicit', 'Simple', 'is', 'better', 'than', 'complex'])"
            ]
          },
          "metadata": {
            "tags": []
          },
          "execution_count": 13
        }
      ]
    },
    {
      "cell_type": "code",
      "metadata": {
        "id": "QgwacTElQKNS",
        "colab": {
          "base_uri": "https://localhost:8080/"
        },
        "outputId": "5ad04958-94e6-4059-f77d-abb9e4d5ba66"
      },
      "source": [
        "zen.sentences"
      ],
      "execution_count": 14,
      "outputs": [
        {
          "output_type": "execute_result",
          "data": {
            "text/plain": [
              "[Sentence(\"Data is a new fuel.\"),\n",
              " Sentence(\"Explicit is better than implicit.\"),\n",
              " Sentence(\"Simple is better than complex.\")]"
            ]
          },
          "metadata": {
            "tags": []
          },
          "execution_count": 14
        }
      ]
    },
    {
      "cell_type": "markdown",
      "metadata": {
        "id": "7CFIzmnPQKNX"
      },
      "source": [
        "*Sentences* objects have the same properties and methods as ***TextBlobs***"
      ]
    },
    {
      "cell_type": "code",
      "metadata": {
        "id": "_yeoVVCrQKNY",
        "colab": {
          "base_uri": "https://localhost:8080/"
        },
        "outputId": "c5943e72-29c7-4439-dd01-555cd99c0b23"
      },
      "source": [
        "for sentence in zen.sentences:\n",
        "    print(sentence)"
      ],
      "execution_count": 15,
      "outputs": [
        {
          "output_type": "stream",
          "text": [
            "Data is a new fuel.\n",
            "Explicit is better than implicit.\n",
            "Simple is better than complex.\n"
          ],
          "name": "stdout"
        }
      ]
    },
    {
      "cell_type": "markdown",
      "metadata": {
        "id": "CPqpiO3iQKNd"
      },
      "source": [
        "## Word Inflection and lemmatization\n",
        "\n",
        "Each word in the **TextBlob.words** or **Sentence.words** is a **Word** object(a subclass of unicode) with useful methods, e.g. for word inflection."
      ]
    },
    {
      "cell_type": "code",
      "metadata": {
        "id": "Uaz3L4RxQKNf",
        "colab": {
          "base_uri": "https://localhost:8080/"
        },
        "outputId": "39b570e1-af68-43bc-c330-14102f726a4e"
      },
      "source": [
        "sentence = TextBlob('Use 4 spaces per indentation level')\n",
        "\n",
        "sentence.words"
      ],
      "execution_count": 16,
      "outputs": [
        {
          "output_type": "execute_result",
          "data": {
            "text/plain": [
              "WordList(['Use', '4', 'spaces', 'per', 'indentation', 'level'])"
            ]
          },
          "metadata": {
            "tags": []
          },
          "execution_count": 16
        }
      ]
    },
    {
      "cell_type": "code",
      "metadata": {
        "id": "yVMElzFbQKNl",
        "colab": {
          "base_uri": "https://localhost:8080/",
          "height": 35
        },
        "outputId": "5faa9eb2-05f4-435d-dc03-003b2c1a1d6f"
      },
      "source": [
        "sentence.words[2].singularize()"
      ],
      "execution_count": 17,
      "outputs": [
        {
          "output_type": "execute_result",
          "data": {
            "application/vnd.google.colaboratory.intrinsic+json": {
              "type": "string"
            },
            "text/plain": [
              "'space'"
            ]
          },
          "metadata": {
            "tags": []
          },
          "execution_count": 17
        }
      ]
    },
    {
      "cell_type": "code",
      "metadata": {
        "id": "r52rhEyXQKNp",
        "colab": {
          "base_uri": "https://localhost:8080/",
          "height": 35
        },
        "outputId": "39407f45-bf99-4cc4-e833-d233b94ac5a8"
      },
      "source": [
        "sentence.words[0].pluralize()"
      ],
      "execution_count": 18,
      "outputs": [
        {
          "output_type": "execute_result",
          "data": {
            "application/vnd.google.colaboratory.intrinsic+json": {
              "type": "string"
            },
            "text/plain": [
              "'Uses'"
            ]
          },
          "metadata": {
            "tags": []
          },
          "execution_count": 18
        }
      ]
    },
    {
      "cell_type": "markdown",
      "metadata": {
        "id": "Vz-ka2koQKNu"
      },
      "source": [
        "Words can be lemmatized just by calling the **lemmatize** method."
      ]
    },
    {
      "cell_type": "code",
      "metadata": {
        "id": "nNAqcV2LQKNu",
        "colab": {
          "base_uri": "https://localhost:8080/",
          "height": 35
        },
        "outputId": "da1498ad-4bb4-4430-95d4-e0e5c738e885"
      },
      "source": [
        "from textblob import Word\n",
        "\n",
        "q = Word('lions')\n",
        "q.lemmatize()"
      ],
      "execution_count": 21,
      "outputs": [
        {
          "output_type": "execute_result",
          "data": {
            "application/vnd.google.colaboratory.intrinsic+json": {
              "type": "string"
            },
            "text/plain": [
              "'lion'"
            ]
          },
          "metadata": {
            "tags": []
          },
          "execution_count": 21
        }
      ]
    },
    {
      "cell_type": "code",
      "metadata": {
        "id": "gNNO328rQKNz",
        "colab": {
          "base_uri": "https://localhost:8080/",
          "height": 35
        },
        "outputId": "7d85ca6d-336c-4da7-81e9-d8d935665988"
      },
      "source": [
        "q = Word(\"went\")\n",
        "q.lemmatize(\"v\") #Pass in WordNet part of speech (verb)"
      ],
      "execution_count": 22,
      "outputs": [
        {
          "output_type": "execute_result",
          "data": {
            "application/vnd.google.colaboratory.intrinsic+json": {
              "type": "string"
            },
            "text/plain": [
              "'go'"
            ]
          },
          "metadata": {
            "tags": []
          },
          "execution_count": 22
        }
      ]
    },
    {
      "cell_type": "markdown",
      "metadata": {
        "id": "Kue-0wlMQKN3"
      },
      "source": [
        "## WordNet Integeration\n",
        "\n",
        "You can access the synets for a **Word** via the **synsets** property or the **get_synsets** method optionally passing in a parts-of-speech.\n",
        "\n",
        "### WordNet \n",
        "\n",
        "   WordNet is a lexical database that is dictionary for the English language, it is specifically for the natural language     processing.\n",
        "### Synset\n",
        "\n",
        "   It is a special kind of a simple interface that is present in the NLTK for look up words in WordNet. Synset instances are    the groupings of synonymous that express the same type of concept. Some words have only one synset and some have several."
      ]
    },
    {
      "cell_type": "code",
      "metadata": {
        "id": "BsSzrvM2QKN3",
        "colab": {
          "base_uri": "https://localhost:8080/"
        },
        "outputId": "6d3ee71f-70ad-47c3-8f83-f9c38c3a1461"
      },
      "source": [
        "from textblob import Word\n",
        "from textblob.wordnet import VERB\n",
        "word = Word(\"goat\")\n",
        "word.synsets"
      ],
      "execution_count": 23,
      "outputs": [
        {
          "output_type": "execute_result",
          "data": {
            "text/plain": [
              "[Synset('goat.n.01'),\n",
              " Synset('butt.n.03'),\n",
              " Synset('capricorn.n.01'),\n",
              " Synset('capricorn.n.03')]"
            ]
          },
          "metadata": {
            "tags": []
          },
          "execution_count": 23
        }
      ]
    },
    {
      "cell_type": "code",
      "metadata": {
        "id": "L9Fkqio0QKN8",
        "colab": {
          "base_uri": "https://localhost:8080/"
        },
        "outputId": "abca12f9-148d-4edc-9257-528346b70f38"
      },
      "source": [
        "Word(\"hack\").get_synsets(pos=VERB)"
      ],
      "execution_count": 24,
      "outputs": [
        {
          "output_type": "execute_result",
          "data": {
            "text/plain": [
              "[Synset('chop.v.05'),\n",
              " Synset('hack.v.02'),\n",
              " Synset('hack.v.03'),\n",
              " Synset('hack.v.04'),\n",
              " Synset('hack.v.05'),\n",
              " Synset('hack.v.06'),\n",
              " Synset('hack.v.07'),\n",
              " Synset('hack.v.08')]"
            ]
          },
          "metadata": {
            "tags": []
          },
          "execution_count": 24
        }
      ]
    },
    {
      "cell_type": "markdown",
      "metadata": {
        "id": "mu0lbHAXQKOB"
      },
      "source": [
        "You can access the definitions for each synset via the **definitions** property or the **define()** method, which can also take an optional part-of-speech(pos) argument."
      ]
    },
    {
      "cell_type": "code",
      "metadata": {
        "id": "66SO4hQcQKOC",
        "colab": {
          "base_uri": "https://localhost:8080/"
        },
        "outputId": "12ec28f2-4d5e-4cea-a13d-dcaebd8a1fb2"
      },
      "source": [
        "Word(\"length\").definitions"
      ],
      "execution_count": 25,
      "outputs": [
        {
          "output_type": "execute_result",
          "data": {
            "text/plain": [
              "['the linear extent in space from one end to the other; the longest dimension of something that is fixed in place',\n",
              " 'continuance in time',\n",
              " 'the property of being the extent of something from beginning to end',\n",
              " 'size of the gap between two places',\n",
              " 'a section of something that is long and narrow']"
            ]
          },
          "metadata": {
            "tags": []
          },
          "execution_count": 25
        }
      ]
    },
    {
      "cell_type": "markdown",
      "metadata": {
        "id": "6x37w7IgQKOF"
      },
      "source": [
        "You can also create synsets directly."
      ]
    },
    {
      "cell_type": "code",
      "metadata": {
        "id": "-LZjDnY_QKOG",
        "colab": {
          "base_uri": "https://localhost:8080/"
        },
        "outputId": "8f0f9d4c-227e-463d-ba6a-2d53ac258bd8"
      },
      "source": [
        "from textblob.wordnet import Synset\n",
        "octopus = Synset('octopus.n.02')\n",
        "shrimp = Synset('shrimp.n.03')\n",
        "octopus.path_similarity(shrimp)"
      ],
      "execution_count": 26,
      "outputs": [
        {
          "output_type": "execute_result",
          "data": {
            "text/plain": [
              "0.1111111111111111"
            ]
          },
          "metadata": {
            "tags": []
          },
          "execution_count": 26
        }
      ]
    },
    {
      "cell_type": "markdown",
      "metadata": {
        "id": "p2TurfS3QKOO"
      },
      "source": [
        "### WordLists\n",
        "\n",
        "A wordlist is just the Python list with additional methods.\n",
        "\n",
        "WordLists will find it out the words which are in the sentence and ignore the spaces in between them. "
      ]
    },
    {
      "cell_type": "code",
      "metadata": {
        "id": "b-BrHvw3QKOP",
        "colab": {
          "base_uri": "https://localhost:8080/"
        },
        "outputId": "c6a36128-ed81-4d8b-e67f-17491569b05f"
      },
      "source": [
        "animals = TextBlob(\"cow sheep octopus\")\n",
        "animals.words"
      ],
      "execution_count": 27,
      "outputs": [
        {
          "output_type": "execute_result",
          "data": {
            "text/plain": [
              "WordList(['cow', 'sheep', 'octopus'])"
            ]
          },
          "metadata": {
            "tags": []
          },
          "execution_count": 27
        }
      ]
    },
    {
      "cell_type": "code",
      "metadata": {
        "id": "YCUjGS5bQKOV",
        "colab": {
          "base_uri": "https://localhost:8080/"
        },
        "outputId": "ac870adc-f309-496a-e77b-9d0a5c9c2b7d"
      },
      "source": [
        "animals.words.pluralize() # It'll pluralize the words"
      ],
      "execution_count": 28,
      "outputs": [
        {
          "output_type": "execute_result",
          "data": {
            "text/plain": [
              "WordList(['kine', 'sheep', 'octopodes'])"
            ]
          },
          "metadata": {
            "tags": []
          },
          "execution_count": 28
        }
      ]
    },
    {
      "cell_type": "markdown",
      "metadata": {
        "id": "9brXTXewQKOa"
      },
      "source": [
        "### Spelling Correction\n",
        "\n",
        "For correcting the words you can use **correct()** method to attempt spelling correction."
      ]
    },
    {
      "cell_type": "code",
      "metadata": {
        "id": "s6bo2WNOQKOb",
        "colab": {
          "base_uri": "https://localhost:8080/"
        },
        "outputId": "553bd213-6fe7-47ec-913c-11e96e0f09d5"
      },
      "source": [
        "g = TextBlob('Can you pronounce czechuslovakia?')\n",
        "print(g.correct())"
      ],
      "execution_count": 29,
      "outputs": [
        {
          "output_type": "stream",
          "text": [
            "An you pronounce czechoslovakia?\n"
          ],
          "name": "stdout"
        }
      ]
    },
    {
      "cell_type": "markdown",
      "metadata": {
        "id": "jhSncqYZQKOi"
      },
      "source": [
        "Word objects have a **spellcheck() Word.spellcheck()** , this method that returns a list of (word, confidence) tuples with spelling suggestions."
      ]
    },
    {
      "cell_type": "code",
      "metadata": {
        "id": "CmJqgMABQKOj",
        "colab": {
          "base_uri": "https://localhost:8080/"
        },
        "outputId": "b5a9ded7-e619-4f00-cede-d0e90fcd59a3"
      },
      "source": [
        "from textblob import Word\n",
        "k = Word('longituode')\n",
        "k.spellcheck()"
      ],
      "execution_count": 30,
      "outputs": [
        {
          "output_type": "execute_result",
          "data": {
            "text/plain": [
              "[('longitude', 1.0)]"
            ]
          },
          "metadata": {
            "tags": []
          },
          "execution_count": 30
        }
      ]
    },
    {
      "cell_type": "markdown",
      "metadata": {
        "id": "wVZ2y9F2QKOq"
      },
      "source": [
        "This spelling correction is based on the Peter Norvig's \"How to Write a Spelling Corrector\", as implemented in the pattern library. It is about 70% accurate."
      ]
    },
    {
      "cell_type": "markdown",
      "metadata": {
        "id": "2Dj5qCL4QKOr"
      },
      "source": [
        "### Get Word and Noun Phrase Frequencies\n",
        "\n",
        "There are two ways to get the frequency of a word or noun phrase in the **TextBlob**\n",
        "\n",
        "The first one is through the word_counts dictionary."
      ]
    },
    {
      "cell_type": "code",
      "metadata": {
        "id": "fdEGnj73QKOs",
        "colab": {
          "base_uri": "https://localhost:8080/"
        },
        "outputId": "0e0f0fb7-d562-4bc9-9b41-cd9ec802654e"
      },
      "source": [
        "sent = TextBlob('She sales sea shells at the sea shore.')\n",
        "\n",
        "sent.word_counts['sea']"
      ],
      "execution_count": 31,
      "outputs": [
        {
          "output_type": "execute_result",
          "data": {
            "text/plain": [
              "2"
            ]
          },
          "metadata": {
            "tags": []
          },
          "execution_count": 31
        }
      ]
    },
    {
      "cell_type": "markdown",
      "metadata": {
        "id": "_K_jD4VgQKOz"
      },
      "source": [
        "If you access the frequencies this way, the search will not be case sensitive, and words that are not found will have a frequency of 0.\n",
        "\n",
        "The second way is to use the count() method."
      ]
    },
    {
      "cell_type": "code",
      "metadata": {
        "id": "SNxBqFhpQKO1",
        "colab": {
          "base_uri": "https://localhost:8080/"
        },
        "outputId": "a8c26bc2-f1e0-4cee-f654-5ec81d36801a"
      },
      "source": [
        "sent.words.count('sea')"
      ],
      "execution_count": 32,
      "outputs": [
        {
          "output_type": "execute_result",
          "data": {
            "text/plain": [
              "2"
            ]
          },
          "metadata": {
            "tags": []
          },
          "execution_count": 32
        }
      ]
    },
    {
      "cell_type": "markdown",
      "metadata": {
        "id": "khi-4xFcQKO7"
      },
      "source": [
        "You can specify whether or not the search should be case-sensitive (default is False)."
      ]
    },
    {
      "cell_type": "code",
      "metadata": {
        "id": "eoZ210_RQKO8",
        "colab": {
          "base_uri": "https://localhost:8080/"
        },
        "outputId": "d3ce2749-d889-4edb-c424-6ac037e06b1b"
      },
      "source": [
        "sent.words.count('Sea', case_sensitive=True) "
      ],
      "execution_count": 33,
      "outputs": [
        {
          "output_type": "execute_result",
          "data": {
            "text/plain": [
              "0"
            ]
          },
          "metadata": {
            "tags": []
          },
          "execution_count": 33
        }
      ]
    },
    {
      "cell_type": "markdown",
      "metadata": {
        "id": "IJ3CKR96QKPB"
      },
      "source": [
        "In the above example we have given 'Sea' and ofcourse 'Sea' is not available in the sentence, 'Sea' is available in sentence but in lowercase beacause of that it given 0 as a result.\n",
        "\n",
        "Each of these methods can also be used with noun phrases."
      ]
    },
    {
      "cell_type": "code",
      "metadata": {
        "id": "m1BK_H88QKPC",
        "colab": {
          "base_uri": "https://localhost:8080/"
        },
        "outputId": "391c5ef3-7086-4bfe-8867-6ae0d3db452e"
      },
      "source": [
        "sent.noun_phrases.count('sea')"
      ],
      "execution_count": 34,
      "outputs": [
        {
          "output_type": "execute_result",
          "data": {
            "text/plain": [
              "0"
            ]
          },
          "metadata": {
            "tags": []
          },
          "execution_count": 34
        }
      ]
    },
    {
      "cell_type": "markdown",
      "metadata": {
        "id": "D14RFpIEQKPI"
      },
      "source": [
        "## Translation and Language Detection\n",
        "\n",
        "TextBlobs can be translated between languages."
      ]
    },
    {
      "cell_type": "code",
      "metadata": {
        "id": "4GKzcjSCQKPJ",
        "colab": {
          "base_uri": "https://localhost:8080/"
        },
        "outputId": "09039838-e06a-4deb-c030-79ebf8bc5147"
      },
      "source": [
        "blob = TextBlob(u'Something is better than nothing.')\n",
        "blob.translate(to='hi')"
      ],
      "execution_count": 36,
      "outputs": [
        {
          "output_type": "execute_result",
          "data": {
            "text/plain": [
              "TextBlob(\"कुछ नहीं से कुछ भला।\")"
            ]
          },
          "metadata": {
            "tags": []
          },
          "execution_count": 36
        }
      ]
    },
    {
      "cell_type": "markdown",
      "metadata": {
        "id": "eJz6p36pQKPN"
      },
      "source": [
        "If no source language is specified, **TextBlob** will attempt to detect the language. You can specify the source language explicitly, like so. Raises **TranslatorError** if the TextBlob cannot be translated into the requested language or NotTranslated if the translated result is the same as the input string."
      ]
    },
    {
      "cell_type": "code",
      "metadata": {
        "id": "eQggiqfkQKPO",
        "colab": {
          "base_uri": "https://localhost:8080/"
        },
        "outputId": "3ba7b7fe-f625-4089-b557-51e489ab0b62"
      },
      "source": [
        "chinese_blob = TextBlob(u\"有总比没有好\")\n",
        "chinese_blob.translate(from_lang=\"zh-CN\", to='en')"
      ],
      "execution_count": 37,
      "outputs": [
        {
          "output_type": "execute_result",
          "data": {
            "text/plain": [
              "TextBlob(\"Something is better than nothing\")"
            ]
          },
          "metadata": {
            "tags": []
          },
          "execution_count": 37
        }
      ]
    },
    {
      "cell_type": "markdown",
      "metadata": {
        "id": "PI-2-OG7QKPT"
      },
      "source": [
        "You can also attempt to detect a TextBlob’s language using **TextBlob.detect_language().**"
      ]
    },
    {
      "cell_type": "code",
      "metadata": {
        "id": "IhePnEhbQKPU",
        "colab": {
          "base_uri": "https://localhost:8080/",
          "height": 35
        },
        "outputId": "f32b3f17-aabd-4e6d-86d2-e302e45f6573"
      },
      "source": [
        "d = TextBlob(\"कुछ नहीं से कुछ भला\")\n",
        "d.detect_language()"
      ],
      "execution_count": 38,
      "outputs": [
        {
          "output_type": "execute_result",
          "data": {
            "application/vnd.google.colaboratory.intrinsic+json": {
              "type": "string"
            },
            "text/plain": [
              "'hi'"
            ]
          },
          "metadata": {
            "tags": []
          },
          "execution_count": 38
        }
      ]
    },
    {
      "cell_type": "markdown",
      "metadata": {
        "id": "Yq6a81HGQKPY"
      },
      "source": [
        "## Parsing\n",
        "\n",
        "Use the **parse()** method to parse the text."
      ]
    },
    {
      "cell_type": "code",
      "metadata": {
        "id": "30X1jW04QKPY",
        "colab": {
          "base_uri": "https://localhost:8080/"
        },
        "outputId": "4898cd1f-cb0e-4db1-e871-58d23a94b9c9"
      },
      "source": [
        "b = TextBlob(\"And now for something completely different.\")\n",
        "print(b.parse())"
      ],
      "execution_count": 39,
      "outputs": [
        {
          "output_type": "stream",
          "text": [
            "And/CC/O/O now/RB/B-ADVP/O for/IN/B-PP/B-PNP something/NN/B-NP/I-PNP completely/RB/B-ADJP/O different/JJ/I-ADJP/O ././O/O\n"
          ],
          "name": "stdout"
        }
      ]
    },
    {
      "cell_type": "markdown",
      "metadata": {
        "id": "T_mJncpOQKPc"
      },
      "source": [
        "By default, TextBlob uses pattern’s parser"
      ]
    },
    {
      "cell_type": "markdown",
      "metadata": {
        "id": "CpeMr6tmQKPd"
      },
      "source": [
        "### TextBlobs Are Like Python Strings!\n",
        "\n",
        "You can use Python’s substring syntax."
      ]
    },
    {
      "cell_type": "code",
      "metadata": {
        "id": "F_7lVMQ3QKPe",
        "colab": {
          "base_uri": "https://localhost:8080/"
        },
        "outputId": "8adeff82-cf51-4ae6-8ca7-a2c4ae6bab1d"
      },
      "source": [
        "zen[0:15]"
      ],
      "execution_count": 40,
      "outputs": [
        {
          "output_type": "execute_result",
          "data": {
            "text/plain": [
              "TextBlob(\"Data is a new f\")"
            ]
          },
          "metadata": {
            "tags": []
          },
          "execution_count": 40
        }
      ]
    },
    {
      "cell_type": "markdown",
      "metadata": {
        "id": "cssRaSNqQKPi"
      },
      "source": [
        "We can use it as common string method."
      ]
    },
    {
      "cell_type": "code",
      "metadata": {
        "id": "u2EW2wvFQKPj",
        "colab": {
          "base_uri": "https://localhost:8080/"
        },
        "outputId": "4e96d92e-099c-4103-9c91-9b9542f17746"
      },
      "source": [
        "zen.upper()"
      ],
      "execution_count": 41,
      "outputs": [
        {
          "output_type": "execute_result",
          "data": {
            "text/plain": [
              "TextBlob(\"DATA IS A NEW FUEL. EXPLICIT IS BETTER THAN IMPLICIT. SIMPLE IS BETTER THAN COMPLEX. \")"
            ]
          },
          "metadata": {
            "tags": []
          },
          "execution_count": 41
        }
      ]
    },
    {
      "cell_type": "code",
      "metadata": {
        "id": "VOsB0BUcQKPo",
        "colab": {
          "base_uri": "https://localhost:8080/"
        },
        "outputId": "7ce5e4e5-060f-414d-8791-78326e964698"
      },
      "source": [
        "zen.find('than') #It shows that 'than' word starts from 39th place."
      ],
      "execution_count": 42,
      "outputs": [
        {
          "output_type": "execute_result",
          "data": {
            "text/plain": [
              "39"
            ]
          },
          "metadata": {
            "tags": []
          },
          "execution_count": 42
        }
      ]
    },
    {
      "cell_type": "markdown",
      "metadata": {
        "id": "_m6kJFaYQKPs"
      },
      "source": [
        "You can make comparisons between TextBlobs and strings."
      ]
    },
    {
      "cell_type": "code",
      "metadata": {
        "id": "Nqa68tNlQKPs",
        "colab": {
          "base_uri": "https://localhost:8080/"
        },
        "outputId": "6df6396e-7490-4f7f-e5ab-6a80ff0bdaf6"
      },
      "source": [
        "a_blob = TextBlob('apple')\n",
        "s_blob = TextBlob('samsumg')\n",
        "\n",
        "a_blob < s_blob"
      ],
      "execution_count": 43,
      "outputs": [
        {
          "output_type": "execute_result",
          "data": {
            "text/plain": [
              "True"
            ]
          },
          "metadata": {
            "tags": []
          },
          "execution_count": 43
        }
      ]
    },
    {
      "cell_type": "code",
      "metadata": {
        "id": "6Q2sxWObQKPx",
        "colab": {
          "base_uri": "https://localhost:8080/"
        },
        "outputId": "94d6ad28-8294-4017-ec14-f8099da5cc31"
      },
      "source": [
        "a_blob == 'apple'"
      ],
      "execution_count": 44,
      "outputs": [
        {
          "output_type": "execute_result",
          "data": {
            "text/plain": [
              "True"
            ]
          },
          "metadata": {
            "tags": []
          },
          "execution_count": 44
        }
      ]
    },
    {
      "cell_type": "markdown",
      "metadata": {
        "id": "kVRa57akQKP0"
      },
      "source": [
        "You can concatenate and interpolate TextBlobs and strings."
      ]
    },
    {
      "cell_type": "code",
      "metadata": {
        "id": "bNgVS0mAQKP1",
        "colab": {
          "base_uri": "https://localhost:8080/"
        },
        "outputId": "f5587f7a-3f95-480f-f9f5-6d9da43c7008"
      },
      "source": [
        "a_blob + ' and ' + s_blob"
      ],
      "execution_count": 45,
      "outputs": [
        {
          "output_type": "execute_result",
          "data": {
            "text/plain": [
              "TextBlob(\"apple and samsumg\")"
            ]
          },
          "metadata": {
            "tags": []
          },
          "execution_count": 45
        }
      ]
    },
    {
      "cell_type": "code",
      "metadata": {
        "id": "yU2lh9IVQKP4",
        "colab": {
          "base_uri": "https://localhost:8080/",
          "height": 35
        },
        "outputId": "5391f32c-7b6e-4161-b973-3619d13edcfa"
      },
      "source": [
        "\"{0} and {1}\".format(a_blob,s_blob)"
      ],
      "execution_count": 46,
      "outputs": [
        {
          "output_type": "execute_result",
          "data": {
            "application/vnd.google.colaboratory.intrinsic+json": {
              "type": "string"
            },
            "text/plain": [
              "'apple and samsumg'"
            ]
          },
          "metadata": {
            "tags": []
          },
          "execution_count": 46
        }
      ]
    },
    {
      "cell_type": "markdown",
      "metadata": {
        "id": "SMtYkGwAQKP-"
      },
      "source": [
        "### n-grams\n",
        "\n",
        "The **TextBlob.ngrams()** method returns a list of tuples of n successive words."
      ]
    },
    {
      "cell_type": "code",
      "metadata": {
        "id": "ZuN-BrzCQKP-",
        "colab": {
          "base_uri": "https://localhost:8080/"
        },
        "outputId": "eb3e3c3b-f933-4cfd-e1b6-72eb457130cb"
      },
      "source": [
        "blob = TextBlob(\"Now is better than never.\")\n",
        "blob.ngrams(n=3)"
      ],
      "execution_count": 47,
      "outputs": [
        {
          "output_type": "execute_result",
          "data": {
            "text/plain": [
              "[WordList(['Now', 'is', 'better']),\n",
              " WordList(['is', 'better', 'than']),\n",
              " WordList(['better', 'than', 'never'])]"
            ]
          },
          "metadata": {
            "tags": []
          },
          "execution_count": 47
        }
      ]
    },
    {
      "cell_type": "markdown",
      "metadata": {
        "id": "hnnZswO5QKQH"
      },
      "source": [
        "### Get Start and End Indices of Sentences\n",
        "\n",
        "Use sentence.start and sentence.end to get the indices where a sentence starts and ends within a **TextBlob.**"
      ]
    },
    {
      "cell_type": "code",
      "metadata": {
        "id": "DDATxZ_pQKQH",
        "colab": {
          "base_uri": "https://localhost:8080/"
        },
        "outputId": "476107d3-8741-42bd-d992-61f3351e6ad5"
      },
      "source": [
        "for k in zen.sentences:\n",
        "    print(k)\n",
        "    print(\"---- Starts at index {}, Ends at index {}\".format(k.start, k.end))"
      ],
      "execution_count": 48,
      "outputs": [
        {
          "output_type": "stream",
          "text": [
            "Data is a new fuel.\n",
            "---- Starts at index 0, Ends at index 19\n",
            "Explicit is better than implicit.\n",
            "---- Starts at index 20, Ends at index 53\n",
            "Simple is better than complex.\n",
            "---- Starts at index 54, Ends at index 84\n"
          ],
          "name": "stdout"
        }
      ]
    },
    {
      "cell_type": "code",
      "metadata": {
        "id": "YveE9hXUQKQL"
      },
      "source": [
        ""
      ],
      "execution_count": null,
      "outputs": []
    },
    {
      "cell_type": "markdown",
      "metadata": {
        "id": "69M6q3ZiQKQO"
      },
      "source": [
        "# Let's start building the Text Classification system\n",
        "\n",
        "The __textblob.classifiers__ module makes it simple to create custom classifiers.\n",
        "\n",
        "As an example, let’s create a custom sentiment analyzer.\n",
        "\n",
        "## Loading Data and Creating a Classifier\n",
        "\n",
        "First we’ll create some training and test data."
      ]
    },
    {
      "cell_type": "code",
      "metadata": {
        "id": "_CFD0l2MQKQO"
      },
      "source": [
        "train = [\n",
        "     ('I love this sandwich.', 'pos'),\n",
        "     ('this is an amazing place!', 'pos'),\n",
        "     ('I feel very good about these beers.', 'pos'),\n",
        "     ('this is my best work.', 'pos'),\n",
        "     (\"what an awesome view\", 'pos'),\n",
        "     ('I do not like this restaurant', 'neg'),\n",
        "     ('I am tired of this stuff.', 'neg'),\n",
        "     (\"I can't deal with this\", 'neg'),\n",
        "     ('he is my sworn enemy!', 'neg'),\n",
        "     ('my boss is horrible.', 'neg')\n",
        "]\n",
        "\n",
        "test = [\n",
        "     ('the beer was good.', 'pos'),\n",
        "     ('I do not enjoy my job', 'neg'),\n",
        "     (\"I ain't feeling dandy today.\", 'neg'),\n",
        "     (\"I feel amazing!\", 'pos'),\n",
        "     ('Gary is a friend of mine.', 'pos'),\n",
        "     (\"I can't believe I'm doing this.\", 'neg')\n",
        "]"
      ],
      "execution_count": 49,
      "outputs": []
    },
    {
      "cell_type": "markdown",
      "metadata": {
        "id": "BG4Uq_NOQKQR"
      },
      "source": [
        "Now we’ll create a Naive Bayes classifier, passing the training data into the constructor."
      ]
    },
    {
      "cell_type": "code",
      "metadata": {
        "id": "wsxKUQg7QKQS"
      },
      "source": [
        "from textblob.classifiers import NaiveBayesClassifier\n",
        "cl = NaiveBayesClassifier(train)"
      ],
      "execution_count": 50,
      "outputs": []
    },
    {
      "cell_type": "markdown",
      "metadata": {
        "id": "OGQs8DANQKQU"
      },
      "source": [
        "### Loading Data from Files\n",
        "\n",
        "You can also load data from common file formats including CSV, JSON, and TSV.\n",
        "\n",
        "CSV files should be formatted like so:\n",
        "\n",
        "      I love this sandwich.,pos\n",
        "      This is an amazing place!,pos\n",
        "      I do not like this restaurant,neg\n",
        "      \n",
        "JSON files should be formatted like so:\n",
        "\n",
        "[\n",
        "    {\"text\": \"I love this sandwich.\", \"label\": \"pos\"},\n",
        "    {\"text\": \"This is an amazing place!\", \"label\": \"pos\"},\n",
        "    {\"text\": \"I do not like this restaurant\", \"label\": \"neg\"}\n",
        "]\n",
        "\n",
        "You can then pass the opened file into the constructor."
      ]
    },
    {
      "cell_type": "code",
      "metadata": {
        "id": "yDZ77VljQKQV",
        "colab": {
          "base_uri": "https://localhost:8080/",
          "height": 185
        },
        "outputId": "2d56624a-66de-401f-cb9d-eb95c83f4e32"
      },
      "source": [
        "with open('train.json', 'r') as fp:\n",
        "    cl = NaiveBayesClassifier(fp, format=\"json\")"
      ],
      "execution_count": 51,
      "outputs": [
        {
          "output_type": "error",
          "ename": "FileNotFoundError",
          "evalue": "ignored",
          "traceback": [
            "\u001b[0;31m---------------------------------------------------------------------------\u001b[0m",
            "\u001b[0;31mFileNotFoundError\u001b[0m                         Traceback (most recent call last)",
            "\u001b[0;32m<ipython-input-51-d10f45b0b2e7>\u001b[0m in \u001b[0;36m<module>\u001b[0;34m()\u001b[0m\n\u001b[0;32m----> 1\u001b[0;31m \u001b[0;32mwith\u001b[0m \u001b[0mopen\u001b[0m\u001b[0;34m(\u001b[0m\u001b[0;34m'train.json'\u001b[0m\u001b[0;34m,\u001b[0m \u001b[0;34m'r'\u001b[0m\u001b[0;34m)\u001b[0m \u001b[0;32mas\u001b[0m \u001b[0mfp\u001b[0m\u001b[0;34m:\u001b[0m\u001b[0;34m\u001b[0m\u001b[0;34m\u001b[0m\u001b[0m\n\u001b[0m\u001b[1;32m      2\u001b[0m     \u001b[0mcl\u001b[0m \u001b[0;34m=\u001b[0m \u001b[0mNaiveBayesClassifier\u001b[0m\u001b[0;34m(\u001b[0m\u001b[0mfp\u001b[0m\u001b[0;34m,\u001b[0m \u001b[0mformat\u001b[0m\u001b[0;34m=\u001b[0m\u001b[0;34m\"json\"\u001b[0m\u001b[0;34m)\u001b[0m\u001b[0;34m\u001b[0m\u001b[0;34m\u001b[0m\u001b[0m\n",
            "\u001b[0;31mFileNotFoundError\u001b[0m: [Errno 2] No such file or directory: 'train.json'"
          ]
        }
      ]
    },
    {
      "cell_type": "markdown",
      "metadata": {
        "id": "oAS7BozlQKQY"
      },
      "source": [
        "## Classifying Text\n",
        "\n",
        "Call the *classify(text)* method to use the classifier."
      ]
    },
    {
      "cell_type": "code",
      "metadata": {
        "id": "lu0TgluYQKQY",
        "colab": {
          "base_uri": "https://localhost:8080/",
          "height": 35
        },
        "outputId": "512647f9-dfdf-4852-bdd7-8133ab83116d"
      },
      "source": [
        "cl.classify(\"This is an amazing library!\")"
      ],
      "execution_count": 52,
      "outputs": [
        {
          "output_type": "execute_result",
          "data": {
            "application/vnd.google.colaboratory.intrinsic+json": {
              "type": "string"
            },
            "text/plain": [
              "'pos'"
            ]
          },
          "metadata": {
            "tags": []
          },
          "execution_count": 52
        }
      ]
    },
    {
      "cell_type": "markdown",
      "metadata": {
        "id": "hB9XwmtIQKQc"
      },
      "source": [
        "You can get the label probability distribution with the *prob_classify(text)* method."
      ]
    },
    {
      "cell_type": "code",
      "metadata": {
        "id": "EKx9oUi1QKQc",
        "colab": {
          "base_uri": "https://localhost:8080/",
          "height": 35
        },
        "outputId": "87db768e-70da-4792-fa1a-e9420efb665b"
      },
      "source": [
        "prob_dist = cl.prob_classify(\"I am suffering from cough and cold.\")\n",
        "prob_dist.max()"
      ],
      "execution_count": 53,
      "outputs": [
        {
          "output_type": "execute_result",
          "data": {
            "application/vnd.google.colaboratory.intrinsic+json": {
              "type": "string"
            },
            "text/plain": [
              "'neg'"
            ]
          },
          "metadata": {
            "tags": []
          },
          "execution_count": 53
        }
      ]
    },
    {
      "cell_type": "code",
      "metadata": {
        "id": "IWq0gWy-QKQg",
        "colab": {
          "base_uri": "https://localhost:8080/"
        },
        "outputId": "e8ca2d5e-92cf-4b34-f1e8-a353949dd687"
      },
      "source": [
        "round(prob_dist.prob(\"neg\"), 2)"
      ],
      "execution_count": 54,
      "outputs": [
        {
          "output_type": "execute_result",
          "data": {
            "text/plain": [
              "0.81"
            ]
          },
          "metadata": {
            "tags": []
          },
          "execution_count": 54
        }
      ]
    },
    {
      "cell_type": "code",
      "metadata": {
        "id": "4k7JFNl1QKQk",
        "colab": {
          "base_uri": "https://localhost:8080/"
        },
        "outputId": "4956180b-7479-44f5-e798-10fe5c6de79b"
      },
      "source": [
        "round(prob_dist.prob(\"pos\"), 2)"
      ],
      "execution_count": 55,
      "outputs": [
        {
          "output_type": "execute_result",
          "data": {
            "text/plain": [
              "0.19"
            ]
          },
          "metadata": {
            "tags": []
          },
          "execution_count": 55
        }
      ]
    },
    {
      "cell_type": "markdown",
      "metadata": {
        "id": "bvYklUK-QKQn"
      },
      "source": [
        "## Classifying TextBlobs\n",
        "\n",
        "Another way to classify text is to pass a classifier into the constructor of TextBlob and call its *classify()* method."
      ]
    },
    {
      "cell_type": "code",
      "metadata": {
        "id": "7e3ULcfbQKQp",
        "colab": {
          "base_uri": "https://localhost:8080/",
          "height": 35
        },
        "outputId": "38c47c55-7ab9-404c-b1a6-0274e3537714"
      },
      "source": [
        "from textblob import TextBlob\n",
        "blob = TextBlob(\"Alcohol is good. But the hangover is horrible.\", classifier=cl)\n",
        "blob.classify()"
      ],
      "execution_count": 56,
      "outputs": [
        {
          "output_type": "execute_result",
          "data": {
            "application/vnd.google.colaboratory.intrinsic+json": {
              "type": "string"
            },
            "text/plain": [
              "'pos'"
            ]
          },
          "metadata": {
            "tags": []
          },
          "execution_count": 56
        }
      ]
    },
    {
      "cell_type": "markdown",
      "metadata": {
        "id": "APw8oYu5QKQt"
      },
      "source": [
        "The advantage of this approach is that you can classify sentences within a **TextBlob**."
      ]
    },
    {
      "cell_type": "code",
      "metadata": {
        "id": "ucUCmz73QKQu",
        "colab": {
          "base_uri": "https://localhost:8080/"
        },
        "outputId": "1ee8e1b3-1833-483e-c893-7a064452db20"
      },
      "source": [
        "for b in blob.sentences:\n",
        "    print(b)\n",
        "    print(b.classify())"
      ],
      "execution_count": 57,
      "outputs": [
        {
          "output_type": "stream",
          "text": [
            "Alcohol is good.\n",
            "pos\n",
            "But the hangover is horrible.\n",
            "neg\n"
          ],
          "name": "stdout"
        }
      ]
    },
    {
      "cell_type": "markdown",
      "metadata": {
        "id": "W27Z68BkQKQw"
      },
      "source": [
        "## Evaluating Classifiers\n",
        "\n",
        "To compute the accuracy on our test set, use the **accuracy(test_data)** method."
      ]
    },
    {
      "cell_type": "code",
      "metadata": {
        "id": "6CMtlYPjQKQx",
        "colab": {
          "base_uri": "https://localhost:8080/"
        },
        "outputId": "7959ca63-a876-462d-edc2-2d52e0effdf0"
      },
      "source": [
        "cl.accuracy(test)"
      ],
      "execution_count": 58,
      "outputs": [
        {
          "output_type": "execute_result",
          "data": {
            "text/plain": [
              "0.8333333333333334"
            ]
          },
          "metadata": {
            "tags": []
          },
          "execution_count": 58
        }
      ]
    },
    {
      "cell_type": "markdown",
      "metadata": {
        "id": "ZAaPteaVQKQy"
      },
      "source": [
        "Use the show_informative_features() method to display a listing of the most informative features."
      ]
    },
    {
      "cell_type": "code",
      "metadata": {
        "id": "rpJtvWqPQKQz",
        "colab": {
          "base_uri": "https://localhost:8080/"
        },
        "outputId": "51727e6f-1bd2-40ff-a608-cc4d36508d87"
      },
      "source": [
        "cl.show_informative_features(5)"
      ],
      "execution_count": 59,
      "outputs": [
        {
          "output_type": "stream",
          "text": [
            "Most Informative Features\n",
            "            contains(my) = True              neg : pos    =      1.7 : 1.0\n",
            "            contains(an) = False             neg : pos    =      1.6 : 1.0\n",
            "             contains(I) = True              neg : pos    =      1.4 : 1.0\n",
            "             contains(I) = False             pos : neg    =      1.4 : 1.0\n",
            "            contains(my) = False             pos : neg    =      1.3 : 1.0\n"
          ],
          "name": "stdout"
        }
      ]
    },
    {
      "cell_type": "markdown",
      "metadata": {
        "id": "UeHCkjoQQKQ1"
      },
      "source": [
        "## Updating Classifiers with New Data\n",
        "\n",
        "Use the update(new_data) method to update a classifier with new training data."
      ]
    },
    {
      "cell_type": "code",
      "metadata": {
        "id": "GV3DiM20QKQ2",
        "colab": {
          "base_uri": "https://localhost:8080/"
        },
        "outputId": "eb15e646-8ca3-4415-95d0-d297456fa06d"
      },
      "source": [
        "new_data = [('She is my best friend.', 'pos'),\n",
        "           (\"I'm happy to have a new friend.\", 'pos'),\n",
        "           (\"Stay thirsty, my friend.\", 'pos'),             \n",
        "           (\"He ain't from around here.\", 'neg')]\n",
        "\n",
        "cl.update(new_data)"
      ],
      "execution_count": 60,
      "outputs": [
        {
          "output_type": "execute_result",
          "data": {
            "text/plain": [
              "True"
            ]
          },
          "metadata": {
            "tags": []
          },
          "execution_count": 60
        }
      ]
    },
    {
      "cell_type": "code",
      "metadata": {
        "id": "TqJdhXs0QKQ6",
        "colab": {
          "base_uri": "https://localhost:8080/"
        },
        "outputId": "42772c88-8880-4a78-ae00-00a5cf8ed4b8"
      },
      "source": [
        "cl.accuracy(test)"
      ],
      "execution_count": 61,
      "outputs": [
        {
          "output_type": "execute_result",
          "data": {
            "text/plain": [
              "1.0"
            ]
          },
          "metadata": {
            "tags": []
          },
          "execution_count": 61
        }
      ]
    },
    {
      "cell_type": "markdown",
      "metadata": {
        "id": "2PgFtvYMQKQ8"
      },
      "source": [
        "## Feature Extractors\n",
        "\n",
        "By default, the *NaiveBayesClassifier* uses a simple feature extractor that indicates which words in the training set are contained in a document.\n",
        "\n",
        "For example, the sentence “I love” might have the features contains(love): True or contains(hate): False.\n",
        "\n",
        "You can override this feature extractor by writing your own. A feature extractor is simply a function with document (the text to extract features from) as the first argument. The function may include a second argument, train_set (the training dataset), if necessary.\n",
        "\n",
        "The function should return a dictionary of features for document.\n",
        "\n",
        "For example, let’s create a feature extractor that just uses the first and last words of a document as its features."
      ]
    },
    {
      "cell_type": "code",
      "metadata": {
        "id": "1sxCt5XtQKQ8"
      },
      "source": [
        "def end_word_extractor(document):\n",
        "    tokens = document.split()\n",
        "    first_word, last_word = tokens[0], tokens[-1]\n",
        "    feats = {}\n",
        "    feats[\"first({0})\".format(first_word)] = True\n",
        "    feats[\"last({0})\".format(last_word)] = False\n",
        "    return feats"
      ],
      "execution_count": 62,
      "outputs": []
    },
    {
      "cell_type": "code",
      "metadata": {
        "id": "Fc5e7Z8tQKQ_"
      },
      "source": [
        "features = end_word_extractor(\"I love\")"
      ],
      "execution_count": 63,
      "outputs": []
    },
    {
      "cell_type": "code",
      "metadata": {
        "id": "PXnd2mCKQKRB"
      },
      "source": [
        "assert features == {'last(love)': False, 'first(I)': True}"
      ],
      "execution_count": 64,
      "outputs": []
    },
    {
      "cell_type": "markdown",
      "metadata": {
        "id": "uxtWI7GYQKRD"
      },
      "source": [
        "We can then use the feature extractor in a classifier by passing it as the second argument of the constructor."
      ]
    },
    {
      "cell_type": "code",
      "metadata": {
        "id": "PysXp3LmQKRD"
      },
      "source": [
        "cl2 = NaiveBayesClassifier(test, feature_extractor=end_word_extractor)"
      ],
      "execution_count": 65,
      "outputs": []
    },
    {
      "cell_type": "code",
      "metadata": {
        "id": "JAPIF0yOQKRF",
        "colab": {
          "base_uri": "https://localhost:8080/",
          "height": 35
        },
        "outputId": "de1cbab1-1e5c-4f17-a701-0535c7e28516"
      },
      "source": [
        "blob = TextBlob(\"I'm excited to try my new classifier.\", classifier=cl2)\n",
        "blob.classify()"
      ],
      "execution_count": 66,
      "outputs": [
        {
          "output_type": "execute_result",
          "data": {
            "application/vnd.google.colaboratory.intrinsic+json": {
              "type": "string"
            },
            "text/plain": [
              "'pos'"
            ]
          },
          "metadata": {
            "tags": []
          },
          "execution_count": 66
        }
      ]
    },
    {
      "cell_type": "code",
      "metadata": {
        "id": "P7Z4ZvG6QKRG"
      },
      "source": [
        ""
      ],
      "execution_count": null,
      "outputs": []
    },
    {
      "cell_type": "code",
      "metadata": {
        "id": "aecvkIKGQKRI"
      },
      "source": [
        ""
      ],
      "execution_count": null,
      "outputs": []
    },
    {
      "cell_type": "markdown",
      "metadata": {
        "id": "LdYVjZOcQKRK"
      },
      "source": [
        "Credits: [link]('https://textblob.readthedocs.io/en/dev/classifiers.html')"
      ]
    },
    {
      "cell_type": "code",
      "metadata": {
        "id": "T11sRig4QKRK"
      },
      "source": [
        ""
      ],
      "execution_count": null,
      "outputs": []
    }
  ]
}