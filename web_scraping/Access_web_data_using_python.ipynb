{
  "nbformat": 4,
  "nbformat_minor": 0,
  "metadata": {
    "colab": {
      "name": "Access_web_data_using_python",
      "provenance": [],
      "authorship_tag": "ABX9TyMPqrya2OCcocygZew7qmeG",
      "include_colab_link": true
    },
    "kernelspec": {
      "name": "python3",
      "display_name": "Python 3"
    }
  },
  "cells": [
    {
      "cell_type": "markdown",
      "metadata": {
        "id": "view-in-github",
        "colab_type": "text"
      },
      "source": [
        "<a href=\"https://colab.research.google.com/github/pankaj18/NLP-Projects/blob/master/web_scraping/Access_web_data_using_python.ipynb\" target=\"_parent\"><img src=\"https://colab.research.google.com/assets/colab-badge.svg\" alt=\"Open In Colab\"/></a>"
      ]
    },
    {
      "cell_type": "code",
      "metadata": {
        "id": "OvXchFB9y822",
        "colab_type": "code",
        "colab": {}
      },
      "source": [
        "import socket"
      ],
      "execution_count": null,
      "outputs": []
    },
    {
      "cell_type": "code",
      "metadata": {
        "id": "zB2RgmpGzcn5",
        "colab_type": "code",
        "colab": {}
      },
      "source": [
        "mysock=socket.socket(socket.AF_INET,socket.SOCK_STREAM)"
      ],
      "execution_count": null,
      "outputs": []
    },
    {
      "cell_type": "code",
      "metadata": {
        "id": "2qR5O6Suz0E5",
        "colab_type": "code",
        "colab": {}
      },
      "source": [
        "mysock.connect(('data.pr4e.org',80))"
      ],
      "execution_count": null,
      "outputs": []
    },
    {
      "cell_type": "code",
      "metadata": {
        "id": "oq3DHo2L0ARZ",
        "colab_type": "code",
        "colab": {}
      },
      "source": [
        "cmd='GET http://data.pr4e.org/romeo.txt HTTP/1.0\\r\\n\\r\\n'.encode()"
      ],
      "execution_count": null,
      "outputs": []
    },
    {
      "cell_type": "code",
      "metadata": {
        "id": "fFSd7yra67py",
        "colab_type": "code",
        "colab": {
          "base_uri": "https://localhost:8080/",
          "height": 34
        },
        "outputId": "fcace562-b85b-4fed-ed6c-67306e0e34ff"
      },
      "source": [
        "mysock.send(cmd)"
      ],
      "execution_count": null,
      "outputs": [
        {
          "output_type": "execute_result",
          "data": {
            "text/plain": [
              "47"
            ]
          },
          "metadata": {
            "tags": []
          },
          "execution_count": 14
        }
      ]
    },
    {
      "cell_type": "code",
      "metadata": {
        "id": "MLGLT-l17BlC",
        "colab_type": "code",
        "colab": {
          "base_uri": "https://localhost:8080/",
          "height": 340
        },
        "outputId": "0d221de3-a026-4160-a2c3-9d9642b9fe27"
      },
      "source": [
        "mysock.send(cmd)\n",
        "while True:\n",
        "  data=mysock.recv(512)\n",
        "  if(len(data)<1):\n",
        "    break\n",
        "  print(data.decode())\n",
        "mysock.close()\n"
      ],
      "execution_count": null,
      "outputs": [
        {
          "output_type": "stream",
          "text": [
            "HTTP/1.1 200 OK\r\n",
            "Date: Mon, 31 Aug 2020 09:53:18 GMT\r\n",
            "Server: Apache/2.4.18 (Ubuntu)\r\n",
            "Last-Modified: Sat, 13 May 2017 11:22:22 GMT\r\n",
            "ETag: \"a7-54f6609245537\"\r\n",
            "Accept-Ranges: bytes\r\n",
            "Content-Length: 167\r\n",
            "Cache-Control: max-age=0, no-cache, no-store, must-revalidate\r\n",
            "Pragma: no-cache\r\n",
            "Expires: Wed, 11 Jan 1984 05:00:00 GMT\r\n",
            "Connection: close\r\n",
            "Content-Type: text/plain\r\n",
            "\r\n",
            "But soft what light through yonder window breaks\n",
            "It is the east and Juliet is the sun\n",
            "Arise fair sun and kill the envious moon\n",
            "Who is already s\n",
            "ick and pale with grief\n",
            "\n"
          ],
          "name": "stdout"
        }
      ]
    },
    {
      "cell_type": "markdown",
      "metadata": {
        "id": "z_PiIv6HzvDA",
        "colab_type": "text"
      },
      "source": [
        "# Unicode and character strings"
      ]
    },
    {
      "cell_type": "code",
      "metadata": {
        "id": "fpQDAkfo7heZ",
        "colab_type": "code",
        "colab": {
          "base_uri": "https://localhost:8080/",
          "height": 34
        },
        "outputId": "33718e90-cb86-41e7-d7a6-5de8254197ff"
      },
      "source": [
        "print(ord('H'))"
      ],
      "execution_count": 1,
      "outputs": [
        {
          "output_type": "stream",
          "text": [
            "72\n"
          ],
          "name": "stdout"
        }
      ]
    },
    {
      "cell_type": "code",
      "metadata": {
        "id": "x50nNyNN7kf-",
        "colab_type": "code",
        "colab": {
          "base_uri": "https://localhost:8080/",
          "height": 34
        },
        "outputId": "a029a257-1dc1-4006-b90d-b467d18e2d21"
      },
      "source": [
        "print(ord('P'))"
      ],
      "execution_count": 2,
      "outputs": [
        {
          "output_type": "stream",
          "text": [
            "80\n"
          ],
          "name": "stdout"
        }
      ]
    },
    {
      "cell_type": "code",
      "metadata": {
        "id": "ucUJ77PYz52F",
        "colab_type": "code",
        "colab": {
          "base_uri": "https://localhost:8080/",
          "height": 34
        },
        "outputId": "639ceb96-11e4-4ce5-e1ab-f41b618f976d"
      },
      "source": [
        "print(ord('\\n'))"
      ],
      "execution_count": 3,
      "outputs": [
        {
          "output_type": "stream",
          "text": [
            "10\n"
          ],
          "name": "stdout"
        }
      ]
    },
    {
      "cell_type": "markdown",
      "metadata": {
        "id": "BhLm99WnPZGg",
        "colab_type": "text"
      },
      "source": [
        "# Retriving Web Pages"
      ]
    },
    {
      "cell_type": "code",
      "metadata": {
        "id": "5QmePNK81IDt",
        "colab_type": "code",
        "colab": {}
      },
      "source": [
        "import urllib.request,urllib.parse,urllib.error"
      ],
      "execution_count": 4,
      "outputs": []
    },
    {
      "cell_type": "code",
      "metadata": {
        "id": "Xcv2THzXPppK",
        "colab_type": "code",
        "colab": {
          "base_uri": "https://localhost:8080/",
          "height": 54
        },
        "outputId": "5149756d-dfa2-40fa-b361-60f6b8ff612f"
      },
      "source": [
        "fhand=urllib.request.urlopen(\"http://data.pr4e.org/romeo.txt\")\n",
        "counts=dict()\n",
        "for line in fhand:\n",
        "  words=line.decode().split()\n",
        "  for word in words:\n",
        "    counts[word]=counts.get(word,0)+1\n",
        "print(counts)"
      ],
      "execution_count": 8,
      "outputs": [
        {
          "output_type": "stream",
          "text": [
            "{'But': 1, 'soft': 1, 'what': 1, 'light': 1, 'through': 1, 'yonder': 1, 'window': 1, 'breaks': 1, 'It': 1, 'is': 3, 'the': 3, 'east': 1, 'and': 3, 'Juliet': 1, 'sun': 2, 'Arise': 1, 'fair': 1, 'kill': 1, 'envious': 1, 'moon': 1, 'Who': 1, 'already': 1, 'sick': 1, 'pale': 1, 'with': 1, 'grief': 1}\n"
          ],
          "name": "stdout"
        }
      ]
    },
    {
      "cell_type": "code",
      "metadata": {
        "id": "fiPpIx1QQALy",
        "colab_type": "code",
        "colab": {}
      },
      "source": [
        ""
      ],
      "execution_count": 8,
      "outputs": []
    },
    {
      "cell_type": "markdown",
      "metadata": {
        "id": "pt_gVPr_RyIS",
        "colab_type": "text"
      },
      "source": [
        "Retrive html "
      ]
    },
    {
      "cell_type": "code",
      "metadata": {
        "id": "8YcKZy16QKta",
        "colab_type": "code",
        "colab": {
          "base_uri": "https://localhost:8080/",
          "height": 119
        },
        "outputId": "0f6f4fbb-ea22-4fa4-808d-b1d02b0a3074"
      },
      "source": [
        "fhand=urllib.request.urlopen('http://www.dr-chuck.com/page1.htm')\n",
        "for line in fhand:\n",
        "  print(line.decode().strip())"
      ],
      "execution_count": 10,
      "outputs": [
        {
          "output_type": "stream",
          "text": [
            "<h1>The First Page</h1>\n",
            "<p>\n",
            "If you like, you can switch to the\n",
            "<a href=\"http://www.dr-chuck.com/page2.htm\">\n",
            "Second Page</a>.\n",
            "</p>\n"
          ],
          "name": "stdout"
        }
      ]
    },
    {
      "cell_type": "code",
      "metadata": {
        "id": "_Szh0nFoWhjl",
        "colab_type": "code",
        "colab": {}
      },
      "source": [
        "??str.strip()"
      ],
      "execution_count": 13,
      "outputs": []
    },
    {
      "cell_type": "code",
      "metadata": {
        "id": "A3oFgquZWsfU",
        "colab_type": "code",
        "colab": {}
      },
      "source": [
        "from bs4 import BeautifulSoup\n",
        "import ssl"
      ],
      "execution_count": 20,
      "outputs": []
    },
    {
      "cell_type": "code",
      "metadata": {
        "id": "pu9BMostlqsZ",
        "colab_type": "code",
        "colab": {}
      },
      "source": [
        "#Ignore SSL certificate errors\n",
        "ctx=ssl.create_default_context()\n",
        "ctx.check_hostname=False\n",
        "ctx.verify_mode=ssl.CERT_NONE\n"
      ],
      "execution_count": 21,
      "outputs": []
    },
    {
      "cell_type": "code",
      "metadata": {
        "id": "bUunfecNY4tH",
        "colab_type": "code",
        "colab": {
          "base_uri": "https://localhost:8080/",
          "height": 34
        },
        "outputId": "f062d89a-e145-4436-b2af-0e66f213ceb2"
      },
      "source": [
        "url=input('Enter-')"
      ],
      "execution_count": 22,
      "outputs": [
        {
          "output_type": "stream",
          "text": [
            "Enter-http://www.dr-chuck.com/page1.htm\n"
          ],
          "name": "stdout"
        }
      ]
    },
    {
      "cell_type": "code",
      "metadata": {
        "id": "xxqx_nNYZLYs",
        "colab_type": "code",
        "colab": {}
      },
      "source": [
        "html=urllib.request.urlopen(url,context=ctx).read()"
      ],
      "execution_count": 23,
      "outputs": []
    },
    {
      "cell_type": "code",
      "metadata": {
        "id": "-7hE03OVZj3a",
        "colab_type": "code",
        "colab": {}
      },
      "source": [
        "soup=BeautifulSoup(html,'html.parser')"
      ],
      "execution_count": 24,
      "outputs": []
    },
    {
      "cell_type": "code",
      "metadata": {
        "id": "44v0S6XZZrrK",
        "colab_type": "code",
        "colab": {
          "base_uri": "https://localhost:8080/",
          "height": 34
        },
        "outputId": "97a8e2bf-a82a-467c-95a8-05f9f2c3e714"
      },
      "source": [
        "#Retrive all anchor tags\n",
        "tags=soup('a')\n",
        "for tag in tags:\n",
        "  print(tag.get('href',None))"
      ],
      "execution_count": 25,
      "outputs": [
        {
          "output_type": "stream",
          "text": [
            "http://www.dr-chuck.com/page2.htm\n"
          ],
          "name": "stdout"
        }
      ]
    },
    {
      "cell_type": "markdown",
      "metadata": {
        "id": "oX_BbkxrwMNz",
        "colab_type": "text"
      },
      "source": [
        "# Parse XML in Python"
      ]
    },
    {
      "cell_type": "code",
      "metadata": {
        "id": "8OviwgHeaO7M",
        "colab_type": "code",
        "colab": {}
      },
      "source": [
        "import xml.etree.ElementTree as ET"
      ],
      "execution_count": 26,
      "outputs": []
    },
    {
      "cell_type": "code",
      "metadata": {
        "id": "UiJltTK_wneW",
        "colab_type": "code",
        "colab": {}
      },
      "source": [
        "data='''<person>\n",
        "<name>Pankaj Jadhav</name>\n",
        "<phone type=\"intl\"> +91 9869802175 </phone>\n",
        "<email hide=\"yes\"/>\n",
        "</person>'''"
      ],
      "execution_count": 63,
      "outputs": []
    },
    {
      "cell_type": "code",
      "metadata": {
        "id": "3hXugglw04HH",
        "colab_type": "code",
        "colab": {
          "base_uri": "https://localhost:8080/",
          "height": 54
        },
        "outputId": "01efa92b-8080-4990-a1a6-ef1c8f35b653"
      },
      "source": [
        "data"
      ],
      "execution_count": 64,
      "outputs": [
        {
          "output_type": "execute_result",
          "data": {
            "application/vnd.google.colaboratory.intrinsic+json": {
              "type": "string"
            },
            "text/plain": [
              "'<person>\\n<name>Pankaj Jadhav</name>\\n<phone type=\"intl\"> +91 9869802175 </phone>\\n<email hide=\"yes\"/>\\n</person>'"
            ]
          },
          "metadata": {
            "tags": []
          },
          "execution_count": 64
        }
      ]
    },
    {
      "cell_type": "code",
      "metadata": {
        "id": "VMnfYgmYxsJ-",
        "colab_type": "code",
        "colab": {
          "base_uri": "https://localhost:8080/",
          "height": 51
        },
        "outputId": "7e008e71-a095-446b-e910-fef8599bb057"
      },
      "source": [
        "tree=ET.fromstring(data)\n",
        "print('Name:',tree.find('name').text)\n",
        "print('Attr:',tree.find('email').get('hide'))"
      ],
      "execution_count": 66,
      "outputs": [
        {
          "output_type": "stream",
          "text": [
            "Name: Pankaj Jadhav\n",
            "Attr: yes\n"
          ],
          "name": "stdout"
        }
      ]
    },
    {
      "cell_type": "code",
      "metadata": {
        "id": "-bTBGk3myO_Y",
        "colab_type": "code",
        "colab": {}
      },
      "source": [
        "import xml.etree.ElementTree as ET\n",
        "data='''<stuff>\n",
        "          <users>\n",
        "            <user x=\"2\">\n",
        "              <name>Pankaj Jadhav</name>\n",
        "            </user>\n",
        "            <user x=\"5\">\n",
        "              <name>Dhiraj Jadhav</name>\n",
        "            </user>\n",
        "</users>\n",
        "</stuff>'''\n"
      ],
      "execution_count": 70,
      "outputs": []
    },
    {
      "cell_type": "code",
      "metadata": {
        "id": "lrdryUbZ2i5a",
        "colab_type": "code",
        "colab": {}
      },
      "source": [
        "tree=ET.fromstring(data)"
      ],
      "execution_count": 71,
      "outputs": []
    },
    {
      "cell_type": "code",
      "metadata": {
        "id": "LNR970iI2kqY",
        "colab_type": "code",
        "colab": {
          "base_uri": "https://localhost:8080/",
          "height": 102
        },
        "outputId": "e0a92805-6c4b-451b-adb0-1eb84b03b26b"
      },
      "source": [
        "lst=tree.findall('users/user')\n",
        "print('len of list:',len(lst))\n",
        "for item in lst:\n",
        "  print(\"Name:\",item.find('name').text)\n",
        "  print(\"attr\",item.get('x'))"
      ],
      "execution_count": 77,
      "outputs": [
        {
          "output_type": "stream",
          "text": [
            "len of list: 2\n",
            "Name: Pankaj Jadhav\n",
            "attr 2\n",
            "Name: Dhiraj Jadhav\n",
            "attr 5\n"
          ],
          "name": "stdout"
        }
      ]
    },
    {
      "cell_type": "markdown",
      "metadata": {
        "id": "851em2V1xzM3",
        "colab_type": "text"
      },
      "source": [
        "#JSON"
      ]
    },
    {
      "cell_type": "code",
      "metadata": {
        "id": "jxR3f9ry3S3T",
        "colab_type": "code",
        "colab": {}
      },
      "source": [
        "import json"
      ],
      "execution_count": 1,
      "outputs": []
    },
    {
      "cell_type": "code",
      "metadata": {
        "id": "UC44OGDXx8XZ",
        "colab_type": "code",
        "colab": {}
      },
      "source": [
        "data='''    {\n",
        "       \"name\": \"pankaj\",\n",
        "      \"phone\":{\n",
        "        \"type\":\"intl\",\n",
        "        \"number\":9869802175\n",
        "      },\n",
        "      \"email\":{\n",
        "        \"hide\":\"yes\"\n",
        "      }\n",
        "    }\n",
        "'''"
      ],
      "execution_count": 8,
      "outputs": []
    },
    {
      "cell_type": "code",
      "metadata": {
        "id": "SUxv-6Vi0Yl5",
        "colab_type": "code",
        "colab": {}
      },
      "source": [
        "info=json.loads(data)"
      ],
      "execution_count": 9,
      "outputs": []
    },
    {
      "cell_type": "code",
      "metadata": {
        "id": "3_DQE-Mm1rZk",
        "colab_type": "code",
        "colab": {
          "base_uri": "https://localhost:8080/",
          "height": 51
        },
        "outputId": "844e8e53-f763-4e4a-ae42-b60ade4cb18c"
      },
      "source": [
        "print(\"Name:\",info[\"name\"])\n",
        "print(\"Hide:\",info[\"email\"][\"hide\"])"
      ],
      "execution_count": 10,
      "outputs": [
        {
          "output_type": "stream",
          "text": [
            "Name: pankaj\n",
            "Hide: yes\n"
          ],
          "name": "stdout"
        }
      ]
    },
    {
      "cell_type": "code",
      "metadata": {
        "id": "xUfmQcOK2FVe",
        "colab_type": "code",
        "colab": {}
      },
      "source": [
        ""
      ],
      "execution_count": null,
      "outputs": []
    }
  ]
}