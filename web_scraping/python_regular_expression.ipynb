{
  "nbformat": 4,
  "nbformat_minor": 0,
  "metadata": {
    "colab": {
      "name": "python_regular_expression.ipynb",
      "provenance": [],
      "authorship_tag": "ABX9TyM9DQhBR+PyQR88eqVKeMRN",
      "include_colab_link": true
    },
    "kernelspec": {
      "name": "python3",
      "display_name": "Python 3"
    }
  },
  "cells": [
    {
      "cell_type": "markdown",
      "metadata": {
        "id": "view-in-github",
        "colab_type": "text"
      },
      "source": [
        "<a href=\"https://colab.research.google.com/github/pankaj18/NLP-Projects/blob/master/web_scraping/python_regular_expression.ipynb\" target=\"_parent\"><img src=\"https://colab.research.google.com/assets/colab-badge.svg\" alt=\"Open In Colab\"/></a>"
      ]
    },
    {
      "cell_type": "code",
      "metadata": {
        "id": "BokrOxhy7rcB",
        "colab_type": "code",
        "colab": {}
      },
      "source": [
        "import re"
      ],
      "execution_count": null,
      "outputs": []
    },
    {
      "cell_type": "code",
      "metadata": {
        "id": "LcJq69yV-ga2",
        "colab_type": "code",
        "colab": {}
      },
      "source": [
        "x='My 2 favorite numbers are 15 and 18.'"
      ],
      "execution_count": null,
      "outputs": []
    },
    {
      "cell_type": "markdown",
      "metadata": {
        "id": "cTftTZcZ_R1o",
        "colab_type": "text"
      },
      "source": [
        "re.search- gives only matches true or false "
      ]
    },
    {
      "cell_type": "code",
      "metadata": {
        "id": "NXGrHr5n_Aqy",
        "colab_type": "code",
        "colab": {
          "base_uri": "https://localhost:8080/",
          "height": 34
        },
        "outputId": "b7775432-d770-4e43-8799-16d949268329"
      },
      "source": [
        "re.search('[0-9]+',x)"
      ],
      "execution_count": null,
      "outputs": [
        {
          "output_type": "execute_result",
          "data": {
            "text/plain": [
              "<_sre.SRE_Match object; span=(3, 4), match='2'>"
            ]
          },
          "metadata": {
            "tags": []
          },
          "execution_count": 4
        }
      ]
    },
    {
      "cell_type": "markdown",
      "metadata": {
        "id": "RmisxSPT_amQ",
        "colab_type": "text"
      },
      "source": [
        "re.findall- gives matching string\n",
        " "
      ]
    },
    {
      "cell_type": "code",
      "metadata": {
        "id": "JlNk-KQJ_Ny2",
        "colab_type": "code",
        "colab": {
          "base_uri": "https://localhost:8080/",
          "height": 34
        },
        "outputId": "502f9d38-fbf3-4e6e-e577-dc0b14eecd95"
      },
      "source": [
        "re.findall('[0-9]+',x)"
      ],
      "execution_count": null,
      "outputs": [
        {
          "output_type": "execute_result",
          "data": {
            "text/plain": [
              "['2', '15', '18']"
            ]
          },
          "metadata": {
            "tags": []
          },
          "execution_count": 5
        }
      ]
    },
    {
      "cell_type": "code",
      "metadata": {
        "id": "fA0kcgG8_kbU",
        "colab_type": "code",
        "colab": {
          "base_uri": "https://localhost:8080/",
          "height": 34
        },
        "outputId": "f4c5ae65-5087-4b0a-ea0d-b21990c628b3"
      },
      "source": [
        "re.findall('[AEIOU]+',x)"
      ],
      "execution_count": null,
      "outputs": [
        {
          "output_type": "execute_result",
          "data": {
            "text/plain": [
              "[]"
            ]
          },
          "metadata": {
            "tags": []
          },
          "execution_count": 6
        }
      ]
    },
    {
      "cell_type": "markdown",
      "metadata": {
        "id": "uBY919tBAzsn",
        "colab_type": "text"
      },
      "source": [
        "greedy matching gives largest possible string match"
      ]
    },
    {
      "cell_type": "code",
      "metadata": {
        "id": "lJWizuX3BBeC",
        "colab_type": "code",
        "colab": {
          "base_uri": "https://localhost:8080/",
          "height": 34
        },
        "outputId": "c7480bf6-548b-4a14-b5db-24e47daa5768"
      },
      "source": [
        "x='From: using the :character'\n",
        "#greedy\n",
        "y=re.findall('^F.+:',x)\n",
        "print(y)"
      ],
      "execution_count": null,
      "outputs": [
        {
          "output_type": "stream",
          "text": [
            "['From: using the :']\n"
          ],
          "name": "stdout"
        }
      ]
    },
    {
      "cell_type": "markdown",
      "metadata": {
        "id": "hIAT5dtOA6cf",
        "colab_type": "text"
      },
      "source": [
        "non-greedy matching gives smallest possible string match\n"
      ]
    },
    {
      "cell_type": "code",
      "metadata": {
        "id": "GDkUhY2kAHHg",
        "colab_type": "code",
        "colab": {
          "base_uri": "https://localhost:8080/",
          "height": 34
        },
        "outputId": "12779072-c4b5-434e-bdc4-0334326df612"
      },
      "source": [
        "x='From: using the :character'\n",
        "#non  greedy\n",
        "y=re.findall('^F.+?:',x)\n",
        "print(y)"
      ],
      "execution_count": null,
      "outputs": [
        {
          "output_type": "stream",
          "text": [
            "['From:']\n"
          ],
          "name": "stdout"
        }
      ]
    },
    {
      "cell_type": "markdown",
      "metadata": {
        "id": "f4o9jFIlBzY1",
        "colab_type": "text"
      },
      "source": [
        "# find email address"
      ]
    },
    {
      "cell_type": "code",
      "metadata": {
        "id": "MYp8cKJWBylW",
        "colab_type": "code",
        "colab": {
          "base_uri": "https://localhost:8080/",
          "height": 34
        },
        "outputId": "3cb6a40b-979d-445c-e56e-9c23f5cca341"
      },
      "source": [
        "x=' I am Pankaj Jadhav. My email address is pankaj.eln@gmail.com'\n",
        "# \\S- atleast one non-whitespace character\n",
        "y=re.findall('\\S+@\\S+',x)\n",
        "print(y)"
      ],
      "execution_count": null,
      "outputs": [
        {
          "output_type": "stream",
          "text": [
            "['pankaj.eln@gmail.com']\n"
          ],
          "name": "stdout"
        }
      ]
    },
    {
      "cell_type": "markdown",
      "metadata": {
        "id": "p3UPHd1dD_5w",
        "colab_type": "text"
      },
      "source": [
        "# fine tuning string extraction\n",
        "parenthesis provide part to extract from matching string"
      ]
    },
    {
      "cell_type": "code",
      "metadata": {
        "id": "30ubUB1IBhfP",
        "colab_type": "code",
        "colab": {
          "base_uri": "https://localhost:8080/",
          "height": 34
        },
        "outputId": "dbeabb9c-bcbf-4ee7-bf8c-b5e037dd1171"
      },
      "source": [
        "x='I am Pankaj Jadhav. My email address is pankaj.eln@gmail.com'\n",
        "# \\S- atleast one non-whitespace character\n",
        "y=re.findall('^I.+ (\\S+@\\S+)',x)\n",
        "print(y)"
      ],
      "execution_count": null,
      "outputs": [
        {
          "output_type": "stream",
          "text": [
            "['pankaj.eln@gmail.com']\n"
          ],
          "name": "stdout"
        }
      ]
    },
    {
      "cell_type": "markdown",
      "metadata": {
        "id": "OnIeW4wTIFQY",
        "colab_type": "text"
      },
      "source": [
        "find domain name"
      ]
    },
    {
      "cell_type": "code",
      "metadata": {
        "id": "8bHIw25wEUnZ",
        "colab_type": "code",
        "colab": {
          "base_uri": "https://localhost:8080/",
          "height": 34
        },
        "outputId": "e1f8c2a0-587e-4aa6-c380-c0c8ef734d39"
      },
      "source": [
        "x='I am Pankaj Jadhav. My email address is pankaj.eln@gmail.com'\n",
        "# \\S- atleast one non-whitespace character\n",
        "y=re.findall('@(\\S+)',x)\n",
        "print(y)"
      ],
      "execution_count": null,
      "outputs": [
        {
          "output_type": "stream",
          "text": [
            "['gmail.com']\n"
          ],
          "name": "stdout"
        }
      ]
    },
    {
      "cell_type": "code",
      "metadata": {
        "id": "IVyIFe9GIVyj",
        "colab_type": "code",
        "colab": {
          "base_uri": "https://localhost:8080/",
          "height": 34
        },
        "outputId": "92149653-2d38-4d66-a7bd-1fbc01e5665f"
      },
      "source": [
        "x='I am Pankaj Jadhav. My email address is pankaj.eln@gmail.com'\n",
        "# [^ ]-  non-blANK character\n",
        "y=re.findall('@([^ ]*)',x)\n",
        "print(y)"
      ],
      "execution_count": null,
      "outputs": [
        {
          "output_type": "stream",
          "text": [
            "['gmail.com']\n"
          ],
          "name": "stdout"
        }
      ]
    },
    {
      "cell_type": "markdown",
      "metadata": {
        "id": "kGtrfD2ILgWz",
        "colab_type": "text"
      },
      "source": [
        "#ESCAPE CHARACTER"
      ]
    },
    {
      "cell_type": "code",
      "metadata": {
        "id": "BLjJl4MOJ8OK",
        "colab_type": "code",
        "colab": {
          "base_uri": "https://localhost:8080/",
          "height": 34
        },
        "outputId": "b3f45dd9-ce04-4c30-e911-75792dc0991e"
      },
      "source": [
        "x=\"We just received $10.00 for cookies\"\n",
        "y=re.findall('\\$[0-9.]+',x)\n",
        "print(y)"
      ],
      "execution_count": null,
      "outputs": [
        {
          "output_type": "stream",
          "text": [
            "['$10.00']\n"
          ],
          "name": "stdout"
        }
      ]
    },
    {
      "cell_type": "code",
      "metadata": {
        "id": "GQ89ZLjrMX_t",
        "colab_type": "code",
        "colab": {}
      },
      "source": [
        ""
      ],
      "execution_count": null,
      "outputs": []
    }
  ]
}