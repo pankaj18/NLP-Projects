{
  "nbformat": 4,
  "nbformat_minor": 0,
  "metadata": {
    "colab": {
      "name": "twitter_sentiment_sklearn.ipynb",
      "provenance": [],
      "authorship_tag": "ABX9TyOKBfhvrsyh6CVCyUHwGMT/",
      "include_colab_link": true
    },
    "kernelspec": {
      "name": "python3",
      "display_name": "Python 3"
    }
  },
  "cells": [
    {
      "cell_type": "markdown",
      "metadata": {
        "id": "view-in-github",
        "colab_type": "text"
      },
      "source": [
        "<a href=\"https://colab.research.google.com/github/pankaj18/NLP-Projects/blob/master/twitter_sentiment/twitter_sentiment_sklearn.ipynb\" target=\"_parent\"><img src=\"https://colab.research.google.com/assets/colab-badge.svg\" alt=\"Open In Colab\"/></a>"
      ]
    },
    {
      "cell_type": "markdown",
      "metadata": {
        "id": "jbzzsypQJvWi",
        "colab_type": "text"
      },
      "source": [
        "https://www.twillio.com/blog/2017/12/sentiment-analysis-scikit-learn.html"
      ]
    },
    {
      "cell_type": "code",
      "metadata": {
        "id": "iDeo5UEIGJFC",
        "colab_type": "code",
        "colab": {
          "base_uri": "https://localhost:8080/",
          "height": 136
        },
        "outputId": "e88af5c2-af00-47bc-bf30-36703f3f480a"
      },
      "source": [
        "!git clone https://github.com/lesley2958/natural-language-processing"
      ],
      "execution_count": 2,
      "outputs": [
        {
          "output_type": "stream",
          "text": [
            "Cloning into 'natural-language-processing'...\n",
            "remote: Enumerating objects: 9, done.\u001b[K\n",
            "remote: Counting objects: 100% (9/9), done.\u001b[K\n",
            "remote: Compressing objects: 100% (9/9), done.\u001b[K\n",
            "remote: Total 292 (delta 4), reused 0 (delta 0), pack-reused 283\u001b[K\n",
            "Receiving objects: 100% (292/292), 1.03 MiB | 2.59 MiB/s, done.\n",
            "Resolving deltas: 100% (133/133), done.\n"
          ],
          "name": "stdout"
        }
      ]
    },
    {
      "cell_type": "code",
      "metadata": {
        "id": "ZZXnhFnFGwT1",
        "colab_type": "code",
        "colab": {
          "base_uri": "https://localhost:8080/",
          "height": 34
        },
        "outputId": "45fd52ab-7258-465f-8c34-2e0a89a3636b"
      },
      "source": [
        "ls"
      ],
      "execution_count": 3,
      "outputs": [
        {
          "output_type": "stream",
          "text": [
            "\u001b[0m\u001b[01;34mnatural-language-processing\u001b[0m/  \u001b[01;34msample_data\u001b[0m/\n"
          ],
          "name": "stdout"
        }
      ]
    },
    {
      "cell_type": "code",
      "metadata": {
        "id": "6REpVzLhG5MG",
        "colab_type": "code",
        "colab": {}
      },
      "source": [
        "import numpy as np\n",
        "from sklearn.feature_extraction.text import CountVectorizer"
      ],
      "execution_count": 4,
      "outputs": []
    },
    {
      "cell_type": "code",
      "metadata": {
        "id": "xf99KTgQHJGJ",
        "colab_type": "code",
        "colab": {}
      },
      "source": [
        "data=[]\n",
        "data_labels=[]\n",
        "with open('natural-language-processing/data/pos_tweets.txt') as f:\n",
        "  for i in f:\n",
        "    data.append(i)\n",
        "    data_labels.append('pos')\n",
        "with open('natural-language-processing/data/neg_tweets.txt') as f:\n",
        "  for i in f:\n",
        "    data.append(i)\n",
        "    data_labels.append('neg')    \n"
      ],
      "execution_count": 6,
      "outputs": []
    },
    {
      "cell_type": "code",
      "metadata": {
        "id": "MrIwkRibHzMd",
        "colab_type": "code",
        "colab": {}
      },
      "source": [
        "vectorizer=CountVectorizer(analyzer='word',lowercase=False)\n",
        "features=vectorizer.fit_transform(data)\n",
        "features_nd=features.toarray()"
      ],
      "execution_count": 7,
      "outputs": []
    },
    {
      "cell_type": "code",
      "metadata": {
        "id": "RZlVgif6IObx",
        "colab_type": "code",
        "colab": {}
      },
      "source": [
        "from sklearn.model_selection import train_test_split\n",
        "x_train,x_test,y_train,y_test=train_test_split(features_nd,data_labels,train_size=0.8,random_state=123)"
      ],
      "execution_count": 8,
      "outputs": []
    },
    {
      "cell_type": "markdown",
      "metadata": {
        "id": "8H4sU060Iosh",
        "colab_type": "text"
      },
      "source": [
        "#Linear Classifier"
      ]
    },
    {
      "cell_type": "code",
      "metadata": {
        "id": "kEhpB-MoIpqa",
        "colab_type": "code",
        "colab": {}
      },
      "source": [
        "from sklearn.linear_model import LogisticRegression"
      ],
      "execution_count": 9,
      "outputs": []
    },
    {
      "cell_type": "code",
      "metadata": {
        "id": "8X4ra3k8InpE",
        "colab_type": "code",
        "colab": {}
      },
      "source": [
        "log_model=LogisticRegression()"
      ],
      "execution_count": 10,
      "outputs": []
    },
    {
      "cell_type": "code",
      "metadata": {
        "id": "OZj79BcAI26l",
        "colab_type": "code",
        "colab": {}
      },
      "source": [
        "log_model=log_model.fit(X=x_train,y=y_train)"
      ],
      "execution_count": 11,
      "outputs": []
    },
    {
      "cell_type": "code",
      "metadata": {
        "id": "v0eF_QNFJAZx",
        "colab_type": "code",
        "colab": {}
      },
      "source": [
        "y_pred=log_model.predict(x_test)"
      ],
      "execution_count": 12,
      "outputs": []
    },
    {
      "cell_type": "code",
      "metadata": {
        "id": "tZtpIYLlJGOw",
        "colab_type": "code",
        "colab": {}
      },
      "source": [
        ""
      ],
      "execution_count": 13,
      "outputs": []
    },
    {
      "cell_type": "code",
      "metadata": {
        "id": "xIWP2t1jJKKo",
        "colab_type": "code",
        "colab": {}
      },
      "source": [
        "from sklearn.metrics import accuracy_score"
      ],
      "execution_count": 15,
      "outputs": []
    },
    {
      "cell_type": "code",
      "metadata": {
        "id": "fjn-S_0NJaec",
        "colab_type": "code",
        "colab": {
          "base_uri": "https://localhost:8080/",
          "height": 34
        },
        "outputId": "ba523f8b-efc1-4f71-bece-c3c774d5dba1"
      },
      "source": [
        "print(accuracy_score(y_test,y_pred))"
      ],
      "execution_count": 16,
      "outputs": [
        {
          "output_type": "stream",
          "text": [
            "0.7905236907730673\n"
          ],
          "name": "stdout"
        }
      ]
    },
    {
      "cell_type": "markdown",
      "metadata": {
        "id": "CfWxtUloJtT2",
        "colab_type": "text"
      },
      "source": [
        ""
      ]
    },
    {
      "cell_type": "code",
      "metadata": {
        "id": "tt3-UsGhJiZl",
        "colab_type": "code",
        "colab": {}
      },
      "source": [
        ""
      ],
      "execution_count": null,
      "outputs": []
    }
  ]
}